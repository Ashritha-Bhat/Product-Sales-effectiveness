{
 "cells": [
  {
   "cell_type": "markdown",
   "id": "da374f1c",
   "metadata": {},
   "source": [
    "# Product Sales effectiveness"
   ]
  },
  {
   "cell_type": "markdown",
   "id": "45da613b",
   "metadata": {},
   "source": [
    "# FicZon Inc"
   ]
  },
  {
   "cell_type": "markdown",
   "id": "5219f228",
   "metadata": {},
   "source": [
    "### Project Summary\n",
    "\n",
    "- Ficzon Inc is an IT solution provider with products ranging from on-premises products to SAAS based solution. Ficzon major leads generation channel is digital and through their website.\n",
    "\n",
    "- FicZon business is majorly on the sales force effectiveness. As the market is maturing and more new competitors entering the market, FicZon is experiencing the dip in sales. Effectiveness sales in dependent on lead quality and as of now, this is based on manual categorization and highly depended on sales staff. Though there is a quality process, which continuously updates the lead categorization, it's value is in for post analysis, rather than a conersation.\n",
    "\n",
    "- Ficzon want to explore machine learning to pre-categorize the lead quality and as result, expecting significant increase in sales effectiveness.\n",
    "\n",
    "#### PROJECT GOAL :\n",
    "\n",
    "- 1. Data exploration insights - Sales effectiveness.\n",
    "- 2. ML model to predict the Lead Category\n",
    "\n",
    "### Analysis\n",
    "\n",
    "- The data is supervised and categorical. The predictor variable are nominal. The target variable \"Status\" is nominal as well.\n",
    "- Most of the Columns had a lot of different labels, so we compressed and merged the labels such that only the main ones were included and then used Label Encoding. The predictor variable was categorized into two types 'High Potential' and 'Low Potential'\n",
    "\n",
    "\n",
    "### Summary\n",
    "\n",
    "- The project is done with the purpose of finding out the Lead quality, whether the lead should be followed or not. The company motive is to invest in the right prospects, So therefore we divide the Lead as 'High Potential' or 'Low Potential'. This resulted in increase of accuracy drastically. The following steps were carried out:\n",
    "\n",
    "-  Import the data, find out the predictor and target and drop columns which has no use in analysis.\n",
    "-  Compress and merge the labels such that only the main ones are included and use Label Encoding.\n",
    "-  Split it into test and train and use Smote.\n",
    "-  Train the data using algorithms like Logistic Regression , Decision Tree Classifier, Random forest classifier and \n",
    "    Gradient Boosting Classifier and check the accuracy to find out which algorithm is the best.\n",
    "-  Export the model with highest accuracy.\n",
    "\n",
    "## Results\n",
    "- Gradient boosting Classifier gave an accuracy of 73%"
   ]
  },
  {
   "cell_type": "markdown",
   "id": "9fcd2708",
   "metadata": {},
   "source": [
    "# Domain Analysis\n",
    "\n",
    "Created\n",
    "- This is unique feature in data tell about activity related to the selling and no of goods sold in certain date as well as time.\n",
    "\n",
    "Product ID: unique\n",
    "- Id of particular product\n",
    "\n",
    "Source :\n",
    "- The source is contain information about the customer systematic search like call, live chats, and campaign.\n",
    "\n",
    "Mobile :\n",
    "- This is unique feature contain a mobile number of customer.\n",
    "\n",
    "Email :\n",
    "- This is a unique feature contain a Mobile number of customer.\n",
    "\n",
    "Sales Agent :\n",
    "- Sales agent is a front line customer service, A person or a company that acts as a sales agent on behalf of the exporting company (principal),introducing it's product to potential buyers in the external market, in exchange for a commission based on the value of the business deals arranged and paid to the principAL.\n",
    "\n",
    "Location :\n",
    "- The location of sale field always has the main business address in it and has to be changed manually. This also means that the sales tax is computed based on the main business address and not the actual location of the sale.\n",
    "- This feature contain lots of different location.\n",
    "\n",
    "Delivery mode :\n",
    "- Modes pf Delivery of goods may be made in any of the following three ways :\n",
    "\n",
    "\n",
    "1. Actual Delivery : Also known as physical delivery, actual delivery takes place when the goods are physically handed over by seller or his/her authorized agent to the buyer or his/her agent authorized to take possession of the goods.\n",
    "\n",
    "2. Symbolic Delivery : Where the goods are bulky and heavy and it is not possible to physically hand them over to the buyer, delivery thereof may be made by indicating or giving a symbol. Here the goods itself are not delivered, but the means of obtaining possession of goods is delivered.\n",
    "\n",
    "3. Constructive Delivery: In this case neither physical nor symbolic delivery is made. In constructive delivery the individual possessing the products recognizes that he holds the merchandise for the benefit of, and at the disposal of the purchaser. Constructive delivery is also called attornment.\n",
    "\n",
    "Status :\n",
    "- This is a target variable tell about the lead category of customer.[high potential, low potential]"
   ]
  },
  {
   "cell_type": "code",
   "execution_count": 1,
   "id": "098f3f35",
   "metadata": {},
   "outputs": [],
   "source": [
    "import os\n",
    "import mysql.connector\n",
    "import pandas as pd\n",
    "import numpy as np\n",
    "import matplotlib.pyplot as plt\n",
    "import seaborn as sns\n",
    "%matplotlib inline\n",
    "import warnings\n",
    "warnings.filterwarnings('ignore')"
   ]
  },
  {
   "cell_type": "code",
   "execution_count": 2,
   "id": "82cc98b1",
   "metadata": {},
   "outputs": [],
   "source": [
    "## making connection to data base server\n",
    "\n",
    "connection=mysql.connector.connect(host = '18.136.157.135',\n",
    "                                   user = 'dm_team2',\n",
    "                                   password = 'DM!$Team&27@9!20!')"
   ]
  },
  {
   "cell_type": "code",
   "execution_count": 3,
   "id": "d036405a",
   "metadata": {},
   "outputs": [
    {
     "name": "stdout",
     "output_type": "stream",
     "text": [
      "('information_schema',)\n",
      "('project_sales',)\n"
     ]
    }
   ],
   "source": [
    "cursor=connection.cursor()\n",
    "cursor.execute('show databases')\n",
    "for i in cursor:\n",
    "    print(i)"
   ]
  },
  {
   "cell_type": "code",
   "execution_count": 4,
   "id": "fe5cdbb6",
   "metadata": {},
   "outputs": [],
   "source": [
    "## connecting the database\n",
    "connection=mysql.connector.connect(host='18.136.157.135',\n",
    "                                  user='dm_team2',\n",
    "                                  password='DM!$Team&27@9!20!',\n",
    "                                  database='project_sales')"
   ]
  },
  {
   "cell_type": "code",
   "execution_count": 5,
   "id": "ad6a767e",
   "metadata": {},
   "outputs": [
    {
     "name": "stdout",
     "output_type": "stream",
     "text": [
      "  Tables_in_project_sales\n",
      "0                    data\n"
     ]
    }
   ],
   "source": [
    "db_tables=pd.read_sql_query('show tables',connection)\n",
    "print(db_tables)"
   ]
  },
  {
   "cell_type": "code",
   "execution_count": 6,
   "id": "0e5a484a",
   "metadata": {},
   "outputs": [
    {
     "name": "stdout",
     "output_type": "stream",
     "text": [
      "(7422, 9)\n"
     ]
    },
    {
     "data": {
      "text/html": [
       "<div>\n",
       "<style scoped>\n",
       "    .dataframe tbody tr th:only-of-type {\n",
       "        vertical-align: middle;\n",
       "    }\n",
       "\n",
       "    .dataframe tbody tr th {\n",
       "        vertical-align: top;\n",
       "    }\n",
       "\n",
       "    .dataframe thead th {\n",
       "        text-align: right;\n",
       "    }\n",
       "</style>\n",
       "<table border=\"1\" class=\"dataframe\">\n",
       "  <thead>\n",
       "    <tr style=\"text-align: right;\">\n",
       "      <th></th>\n",
       "      <th>Created</th>\n",
       "      <th>Product_ID</th>\n",
       "      <th>Source</th>\n",
       "      <th>Mobile</th>\n",
       "      <th>EMAIL</th>\n",
       "      <th>Sales_Agent</th>\n",
       "      <th>Location</th>\n",
       "      <th>Delivery_Mode</th>\n",
       "      <th>Status</th>\n",
       "    </tr>\n",
       "  </thead>\n",
       "  <tbody>\n",
       "    <tr>\n",
       "      <th>0</th>\n",
       "      <td>14-11-2018 10:05</td>\n",
       "      <td></td>\n",
       "      <td>Website</td>\n",
       "      <td>984XXXXXXX</td>\n",
       "      <td>aXXXXXXX@gmail.com</td>\n",
       "      <td>Sales-Agent-11</td>\n",
       "      <td></td>\n",
       "      <td>Mode-5</td>\n",
       "      <td>Open</td>\n",
       "    </tr>\n",
       "    <tr>\n",
       "      <th>1</th>\n",
       "      <td>14-11-2018 09:22</td>\n",
       "      <td></td>\n",
       "      <td>Website</td>\n",
       "      <td>XXXXXXX</td>\n",
       "      <td>#VALUE!</td>\n",
       "      <td>Sales-Agent-10</td>\n",
       "      <td></td>\n",
       "      <td>Mode-5</td>\n",
       "      <td>Open</td>\n",
       "    </tr>\n",
       "    <tr>\n",
       "      <th>2</th>\n",
       "      <td>14-11-2018 09:21</td>\n",
       "      <td></td>\n",
       "      <td>Website</td>\n",
       "      <td>XXXXXXX</td>\n",
       "      <td>dXXXXXXX@yahoo.com</td>\n",
       "      <td>Sales-Agent-10</td>\n",
       "      <td></td>\n",
       "      <td>Mode-5</td>\n",
       "      <td>Open</td>\n",
       "    </tr>\n",
       "    <tr>\n",
       "      <th>3</th>\n",
       "      <td>14-11-2018 08:46</td>\n",
       "      <td></td>\n",
       "      <td>Website</td>\n",
       "      <td>XXXXXXX</td>\n",
       "      <td>wXXXXXXX@gmail.com</td>\n",
       "      <td>Sales-Agent-10</td>\n",
       "      <td></td>\n",
       "      <td>Mode-5</td>\n",
       "      <td>Open</td>\n",
       "    </tr>\n",
       "    <tr>\n",
       "      <th>4</th>\n",
       "      <td>14-11-2018 07:34</td>\n",
       "      <td></td>\n",
       "      <td>Website</td>\n",
       "      <td>XXXXXXX</td>\n",
       "      <td>cXXXXXXX@gmail.com</td>\n",
       "      <td>Sales-Agent-10</td>\n",
       "      <td></td>\n",
       "      <td>Mode-5</td>\n",
       "      <td>Open</td>\n",
       "    </tr>\n",
       "    <tr>\n",
       "      <th>...</th>\n",
       "      <td>...</td>\n",
       "      <td>...</td>\n",
       "      <td>...</td>\n",
       "      <td>...</td>\n",
       "      <td>...</td>\n",
       "      <td>...</td>\n",
       "      <td>...</td>\n",
       "      <td>...</td>\n",
       "      <td>...</td>\n",
       "    </tr>\n",
       "    <tr>\n",
       "      <th>7417</th>\n",
       "      <td>28-04-2018 09:45</td>\n",
       "      <td>9</td>\n",
       "      <td>Call</td>\n",
       "      <td></td>\n",
       "      <td>aXXXXXXX@gmail.com</td>\n",
       "      <td>Sales-Agent-6</td>\n",
       "      <td>Mumbai</td>\n",
       "      <td>Mode-4</td>\n",
       "      <td>LOST</td>\n",
       "    </tr>\n",
       "    <tr>\n",
       "      <th>7418</th>\n",
       "      <td>28-04-2018 09:43</td>\n",
       "      <td>15</td>\n",
       "      <td>Call</td>\n",
       "      <td></td>\n",
       "      <td>#VALUE!</td>\n",
       "      <td>Sales-Agent-12</td>\n",
       "      <td>Other Locations</td>\n",
       "      <td>Mode-5</td>\n",
       "      <td>LOST</td>\n",
       "    </tr>\n",
       "    <tr>\n",
       "      <th>7419</th>\n",
       "      <td>28-04-2018 09:20</td>\n",
       "      <td>5</td>\n",
       "      <td>Live Chat-Direct</td>\n",
       "      <td></td>\n",
       "      <td>sXXXXXXX@gmail.com</td>\n",
       "      <td>Sales-Agent-11</td>\n",
       "      <td>Bangalore</td>\n",
       "      <td>Mode-1</td>\n",
       "      <td>Not Responding</td>\n",
       "    </tr>\n",
       "    <tr>\n",
       "      <th>7420</th>\n",
       "      <td>28-04-2018 08:04</td>\n",
       "      <td>21</td>\n",
       "      <td>CRM form</td>\n",
       "      <td></td>\n",
       "      <td>YXXXXXXX@gmail.com</td>\n",
       "      <td>Sales-Agent-4</td>\n",
       "      <td>Other Locations</td>\n",
       "      <td>Mode-1</td>\n",
       "      <td>Just Enquiry</td>\n",
       "    </tr>\n",
       "    <tr>\n",
       "      <th>7421</th>\n",
       "      <td>28-04-2018 07:54</td>\n",
       "      <td>25</td>\n",
       "      <td>Website</td>\n",
       "      <td></td>\n",
       "      <td>cXXXXXXX@gmail.com</td>\n",
       "      <td>Sales-Agent-3</td>\n",
       "      <td>Chennai</td>\n",
       "      <td>Mode-1</td>\n",
       "      <td>CONVERTED</td>\n",
       "    </tr>\n",
       "  </tbody>\n",
       "</table>\n",
       "<p>7422 rows × 9 columns</p>\n",
       "</div>"
      ],
      "text/plain": [
       "               Created Product_ID            Source      Mobile  \\\n",
       "0     14-11-2018 10:05                      Website  984XXXXXXX   \n",
       "1     14-11-2018 09:22                      Website     XXXXXXX   \n",
       "2     14-11-2018 09:21                      Website     XXXXXXX   \n",
       "3     14-11-2018 08:46                      Website     XXXXXXX   \n",
       "4     14-11-2018 07:34                      Website     XXXXXXX   \n",
       "...                ...        ...               ...         ...   \n",
       "7417  28-04-2018 09:45          9              Call               \n",
       "7418  28-04-2018 09:43         15              Call               \n",
       "7419  28-04-2018 09:20          5  Live Chat-Direct               \n",
       "7420  28-04-2018 08:04         21          CRM form               \n",
       "7421  28-04-2018 07:54         25           Website               \n",
       "\n",
       "                   EMAIL     Sales_Agent         Location Delivery_Mode  \\\n",
       "0     aXXXXXXX@gmail.com  Sales-Agent-11                         Mode-5   \n",
       "1                #VALUE!  Sales-Agent-10                         Mode-5   \n",
       "2     dXXXXXXX@yahoo.com  Sales-Agent-10                         Mode-5   \n",
       "3     wXXXXXXX@gmail.com  Sales-Agent-10                         Mode-5   \n",
       "4     cXXXXXXX@gmail.com  Sales-Agent-10                         Mode-5   \n",
       "...                  ...             ...              ...           ...   \n",
       "7417  aXXXXXXX@gmail.com   Sales-Agent-6           Mumbai        Mode-4   \n",
       "7418             #VALUE!  Sales-Agent-12  Other Locations        Mode-5   \n",
       "7419  sXXXXXXX@gmail.com  Sales-Agent-11        Bangalore        Mode-1   \n",
       "7420  YXXXXXXX@gmail.com   Sales-Agent-4  Other Locations        Mode-1   \n",
       "7421  cXXXXXXX@gmail.com   Sales-Agent-3          Chennai        Mode-1   \n",
       "\n",
       "              Status  \n",
       "0               Open  \n",
       "1               Open  \n",
       "2               Open  \n",
       "3               Open  \n",
       "4               Open  \n",
       "...              ...  \n",
       "7417            LOST  \n",
       "7418            LOST  \n",
       "7419  Not Responding  \n",
       "7420    Just Enquiry  \n",
       "7421       CONVERTED  \n",
       "\n",
       "[7422 rows x 9 columns]"
      ]
     },
     "execution_count": 6,
     "metadata": {},
     "output_type": "execute_result"
    }
   ],
   "source": [
    "query = \"select * from data\" # SQL statement\n",
    "output = pd.read_sql(query,connection)\n",
    "print(output.shape)\n",
    "output"
   ]
  },
  {
   "cell_type": "code",
   "execution_count": 7,
   "id": "67a328c5",
   "metadata": {},
   "outputs": [],
   "source": [
    "data = pd.read_sql(query, connection)"
   ]
  },
  {
   "cell_type": "code",
   "execution_count": 8,
   "id": "17358fb7",
   "metadata": {},
   "outputs": [
    {
     "data": {
      "text/html": [
       "<div>\n",
       "<style scoped>\n",
       "    .dataframe tbody tr th:only-of-type {\n",
       "        vertical-align: middle;\n",
       "    }\n",
       "\n",
       "    .dataframe tbody tr th {\n",
       "        vertical-align: top;\n",
       "    }\n",
       "\n",
       "    .dataframe thead th {\n",
       "        text-align: right;\n",
       "    }\n",
       "</style>\n",
       "<table border=\"1\" class=\"dataframe\">\n",
       "  <thead>\n",
       "    <tr style=\"text-align: right;\">\n",
       "      <th></th>\n",
       "      <th>Created</th>\n",
       "      <th>Product_ID</th>\n",
       "      <th>Source</th>\n",
       "      <th>Mobile</th>\n",
       "      <th>EMAIL</th>\n",
       "      <th>Sales_Agent</th>\n",
       "      <th>Location</th>\n",
       "      <th>Delivery_Mode</th>\n",
       "      <th>Status</th>\n",
       "    </tr>\n",
       "  </thead>\n",
       "  <tbody>\n",
       "    <tr>\n",
       "      <th>0</th>\n",
       "      <td>14-11-2018 10:05</td>\n",
       "      <td></td>\n",
       "      <td>Website</td>\n",
       "      <td>984XXXXXXX</td>\n",
       "      <td>aXXXXXXX@gmail.com</td>\n",
       "      <td>Sales-Agent-11</td>\n",
       "      <td></td>\n",
       "      <td>Mode-5</td>\n",
       "      <td>Open</td>\n",
       "    </tr>\n",
       "    <tr>\n",
       "      <th>1</th>\n",
       "      <td>14-11-2018 09:22</td>\n",
       "      <td></td>\n",
       "      <td>Website</td>\n",
       "      <td>XXXXXXX</td>\n",
       "      <td>#VALUE!</td>\n",
       "      <td>Sales-Agent-10</td>\n",
       "      <td></td>\n",
       "      <td>Mode-5</td>\n",
       "      <td>Open</td>\n",
       "    </tr>\n",
       "    <tr>\n",
       "      <th>2</th>\n",
       "      <td>14-11-2018 09:21</td>\n",
       "      <td></td>\n",
       "      <td>Website</td>\n",
       "      <td>XXXXXXX</td>\n",
       "      <td>dXXXXXXX@yahoo.com</td>\n",
       "      <td>Sales-Agent-10</td>\n",
       "      <td></td>\n",
       "      <td>Mode-5</td>\n",
       "      <td>Open</td>\n",
       "    </tr>\n",
       "    <tr>\n",
       "      <th>3</th>\n",
       "      <td>14-11-2018 08:46</td>\n",
       "      <td></td>\n",
       "      <td>Website</td>\n",
       "      <td>XXXXXXX</td>\n",
       "      <td>wXXXXXXX@gmail.com</td>\n",
       "      <td>Sales-Agent-10</td>\n",
       "      <td></td>\n",
       "      <td>Mode-5</td>\n",
       "      <td>Open</td>\n",
       "    </tr>\n",
       "    <tr>\n",
       "      <th>4</th>\n",
       "      <td>14-11-2018 07:34</td>\n",
       "      <td></td>\n",
       "      <td>Website</td>\n",
       "      <td>XXXXXXX</td>\n",
       "      <td>cXXXXXXX@gmail.com</td>\n",
       "      <td>Sales-Agent-10</td>\n",
       "      <td></td>\n",
       "      <td>Mode-5</td>\n",
       "      <td>Open</td>\n",
       "    </tr>\n",
       "  </tbody>\n",
       "</table>\n",
       "</div>"
      ],
      "text/plain": [
       "            Created Product_ID   Source      Mobile               EMAIL  \\\n",
       "0  14-11-2018 10:05             Website  984XXXXXXX  aXXXXXXX@gmail.com   \n",
       "1  14-11-2018 09:22             Website     XXXXXXX             #VALUE!   \n",
       "2  14-11-2018 09:21             Website     XXXXXXX  dXXXXXXX@yahoo.com   \n",
       "3  14-11-2018 08:46             Website     XXXXXXX  wXXXXXXX@gmail.com   \n",
       "4  14-11-2018 07:34             Website     XXXXXXX  cXXXXXXX@gmail.com   \n",
       "\n",
       "      Sales_Agent Location Delivery_Mode Status  \n",
       "0  Sales-Agent-11                 Mode-5   Open  \n",
       "1  Sales-Agent-10                 Mode-5   Open  \n",
       "2  Sales-Agent-10                 Mode-5   Open  \n",
       "3  Sales-Agent-10                 Mode-5   Open  \n",
       "4  Sales-Agent-10                 Mode-5   Open  "
      ]
     },
     "execution_count": 8,
     "metadata": {},
     "output_type": "execute_result"
    }
   ],
   "source": [
    "data.head()"
   ]
  },
  {
   "cell_type": "code",
   "execution_count": 9,
   "id": "a1f9abeb",
   "metadata": {},
   "outputs": [
    {
     "data": {
      "text/html": [
       "<div>\n",
       "<style scoped>\n",
       "    .dataframe tbody tr th:only-of-type {\n",
       "        vertical-align: middle;\n",
       "    }\n",
       "\n",
       "    .dataframe tbody tr th {\n",
       "        vertical-align: top;\n",
       "    }\n",
       "\n",
       "    .dataframe thead th {\n",
       "        text-align: right;\n",
       "    }\n",
       "</style>\n",
       "<table border=\"1\" class=\"dataframe\">\n",
       "  <thead>\n",
       "    <tr style=\"text-align: right;\">\n",
       "      <th></th>\n",
       "      <th>Created</th>\n",
       "      <th>Product_ID</th>\n",
       "      <th>Source</th>\n",
       "      <th>Mobile</th>\n",
       "      <th>EMAIL</th>\n",
       "      <th>Sales_Agent</th>\n",
       "      <th>Location</th>\n",
       "      <th>Delivery_Mode</th>\n",
       "      <th>Status</th>\n",
       "    </tr>\n",
       "  </thead>\n",
       "  <tbody>\n",
       "    <tr>\n",
       "      <th>7417</th>\n",
       "      <td>28-04-2018 09:45</td>\n",
       "      <td>9</td>\n",
       "      <td>Call</td>\n",
       "      <td></td>\n",
       "      <td>aXXXXXXX@gmail.com</td>\n",
       "      <td>Sales-Agent-6</td>\n",
       "      <td>Mumbai</td>\n",
       "      <td>Mode-4</td>\n",
       "      <td>LOST</td>\n",
       "    </tr>\n",
       "    <tr>\n",
       "      <th>7418</th>\n",
       "      <td>28-04-2018 09:43</td>\n",
       "      <td>15</td>\n",
       "      <td>Call</td>\n",
       "      <td></td>\n",
       "      <td>#VALUE!</td>\n",
       "      <td>Sales-Agent-12</td>\n",
       "      <td>Other Locations</td>\n",
       "      <td>Mode-5</td>\n",
       "      <td>LOST</td>\n",
       "    </tr>\n",
       "    <tr>\n",
       "      <th>7419</th>\n",
       "      <td>28-04-2018 09:20</td>\n",
       "      <td>5</td>\n",
       "      <td>Live Chat-Direct</td>\n",
       "      <td></td>\n",
       "      <td>sXXXXXXX@gmail.com</td>\n",
       "      <td>Sales-Agent-11</td>\n",
       "      <td>Bangalore</td>\n",
       "      <td>Mode-1</td>\n",
       "      <td>Not Responding</td>\n",
       "    </tr>\n",
       "    <tr>\n",
       "      <th>7420</th>\n",
       "      <td>28-04-2018 08:04</td>\n",
       "      <td>21</td>\n",
       "      <td>CRM form</td>\n",
       "      <td></td>\n",
       "      <td>YXXXXXXX@gmail.com</td>\n",
       "      <td>Sales-Agent-4</td>\n",
       "      <td>Other Locations</td>\n",
       "      <td>Mode-1</td>\n",
       "      <td>Just Enquiry</td>\n",
       "    </tr>\n",
       "    <tr>\n",
       "      <th>7421</th>\n",
       "      <td>28-04-2018 07:54</td>\n",
       "      <td>25</td>\n",
       "      <td>Website</td>\n",
       "      <td></td>\n",
       "      <td>cXXXXXXX@gmail.com</td>\n",
       "      <td>Sales-Agent-3</td>\n",
       "      <td>Chennai</td>\n",
       "      <td>Mode-1</td>\n",
       "      <td>CONVERTED</td>\n",
       "    </tr>\n",
       "  </tbody>\n",
       "</table>\n",
       "</div>"
      ],
      "text/plain": [
       "               Created Product_ID            Source Mobile  \\\n",
       "7417  28-04-2018 09:45          9              Call          \n",
       "7418  28-04-2018 09:43         15              Call          \n",
       "7419  28-04-2018 09:20          5  Live Chat-Direct          \n",
       "7420  28-04-2018 08:04         21          CRM form          \n",
       "7421  28-04-2018 07:54         25           Website          \n",
       "\n",
       "                   EMAIL     Sales_Agent         Location Delivery_Mode  \\\n",
       "7417  aXXXXXXX@gmail.com   Sales-Agent-6           Mumbai        Mode-4   \n",
       "7418             #VALUE!  Sales-Agent-12  Other Locations        Mode-5   \n",
       "7419  sXXXXXXX@gmail.com  Sales-Agent-11        Bangalore        Mode-1   \n",
       "7420  YXXXXXXX@gmail.com   Sales-Agent-4  Other Locations        Mode-1   \n",
       "7421  cXXXXXXX@gmail.com   Sales-Agent-3          Chennai        Mode-1   \n",
       "\n",
       "              Status  \n",
       "7417            LOST  \n",
       "7418            LOST  \n",
       "7419  Not Responding  \n",
       "7420    Just Enquiry  \n",
       "7421       CONVERTED  "
      ]
     },
     "execution_count": 9,
     "metadata": {},
     "output_type": "execute_result"
    }
   ],
   "source": [
    "data.tail()"
   ]
  },
  {
   "cell_type": "code",
   "execution_count": 10,
   "id": "94ae82b6",
   "metadata": {},
   "outputs": [
    {
     "data": {
      "text/html": [
       "<div>\n",
       "<style scoped>\n",
       "    .dataframe tbody tr th:only-of-type {\n",
       "        vertical-align: middle;\n",
       "    }\n",
       "\n",
       "    .dataframe tbody tr th {\n",
       "        vertical-align: top;\n",
       "    }\n",
       "\n",
       "    .dataframe thead th {\n",
       "        text-align: right;\n",
       "    }\n",
       "</style>\n",
       "<table border=\"1\" class=\"dataframe\">\n",
       "  <thead>\n",
       "    <tr style=\"text-align: right;\">\n",
       "      <th></th>\n",
       "      <th>Created</th>\n",
       "      <th>Product_ID</th>\n",
       "      <th>Source</th>\n",
       "      <th>Mobile</th>\n",
       "      <th>EMAIL</th>\n",
       "      <th>Sales_Agent</th>\n",
       "      <th>Location</th>\n",
       "      <th>Delivery_Mode</th>\n",
       "      <th>Status</th>\n",
       "    </tr>\n",
       "  </thead>\n",
       "  <tbody>\n",
       "    <tr>\n",
       "      <th>count</th>\n",
       "      <td>7422</td>\n",
       "      <td>7422</td>\n",
       "      <td>7422</td>\n",
       "      <td>7422</td>\n",
       "      <td>7422</td>\n",
       "      <td>7422</td>\n",
       "      <td>7422</td>\n",
       "      <td>7422</td>\n",
       "      <td>7422</td>\n",
       "    </tr>\n",
       "    <tr>\n",
       "      <th>unique</th>\n",
       "      <td>6752</td>\n",
       "      <td>30</td>\n",
       "      <td>26</td>\n",
       "      <td>487</td>\n",
       "      <td>883</td>\n",
       "      <td>13</td>\n",
       "      <td>18</td>\n",
       "      <td>5</td>\n",
       "      <td>11</td>\n",
       "    </tr>\n",
       "    <tr>\n",
       "      <th>top</th>\n",
       "      <td>26-09-2018 11:30</td>\n",
       "      <td>18</td>\n",
       "      <td>Call</td>\n",
       "      <td></td>\n",
       "      <td>#VALUE!</td>\n",
       "      <td>Sales-Agent-4</td>\n",
       "      <td>Other Locations</td>\n",
       "      <td>Mode-5</td>\n",
       "      <td>Junk Lead</td>\n",
       "    </tr>\n",
       "    <tr>\n",
       "      <th>freq</th>\n",
       "      <td>4</td>\n",
       "      <td>1711</td>\n",
       "      <td>2547</td>\n",
       "      <td>1810</td>\n",
       "      <td>1701</td>\n",
       "      <td>1500</td>\n",
       "      <td>2500</td>\n",
       "      <td>2975</td>\n",
       "      <td>1536</td>\n",
       "    </tr>\n",
       "  </tbody>\n",
       "</table>\n",
       "</div>"
      ],
      "text/plain": [
       "                 Created Product_ID Source Mobile    EMAIL    Sales_Agent  \\\n",
       "count               7422       7422   7422   7422     7422           7422   \n",
       "unique              6752         30     26    487      883             13   \n",
       "top     26-09-2018 11:30         18   Call         #VALUE!  Sales-Agent-4   \n",
       "freq                   4       1711   2547   1810     1701           1500   \n",
       "\n",
       "               Location Delivery_Mode     Status  \n",
       "count              7422          7422       7422  \n",
       "unique               18             5         11  \n",
       "top     Other Locations        Mode-5  Junk Lead  \n",
       "freq               2500          2975       1536  "
      ]
     },
     "execution_count": 10,
     "metadata": {},
     "output_type": "execute_result"
    }
   ],
   "source": [
    "data.describe()"
   ]
  },
  {
   "cell_type": "markdown",
   "id": "1fb1e78b",
   "metadata": {},
   "source": [
    "# Data Preprocessing"
   ]
  },
  {
   "cell_type": "code",
   "execution_count": 11,
   "id": "877e3347",
   "metadata": {},
   "outputs": [],
   "source": [
    "## Droping the columns which are of no use in analysis\n",
    "\n",
    "data.drop(['Mobile'], axis=1, inplace=True)\n",
    "data.drop(['EMAIL'], axis=1, inplace=True)\n",
    "data.drop(['Created'], axis=1, inplace=True)"
   ]
  },
  {
   "cell_type": "code",
   "execution_count": 12,
   "id": "b50e5469",
   "metadata": {},
   "outputs": [
    {
     "data": {
      "text/plain": [
       "(7328, 6)"
      ]
     },
     "execution_count": 12,
     "metadata": {},
     "output_type": "execute_result"
    }
   ],
   "source": [
    "## Droping rows with a issing data beacuse they are few\n",
    "\n",
    "data.replace('',np.nan, inplace=True)\n",
    "data.dropna(inplace=True)\n",
    "data.reset_index(inplace=True, drop=True)\n",
    "data.shape"
   ]
  },
  {
   "cell_type": "code",
   "execution_count": 13,
   "id": "9ff9e1b4",
   "metadata": {},
   "outputs": [
    {
     "data": {
      "text/plain": [
       "array(['Live Chat-Google Organic', 'Call', 'Website', 'Live Chat-Direct',\n",
       "       'By Recommendation', 'Customer Referral', 'Live Chat-Blog',\n",
       "       'Live Chat -PPC', 'Live Chat-Google Ads',\n",
       "       'Live Chat-Adwords Remarketing', 'E-Mail Message',\n",
       "       'Existing Client', 'Live Chat-CPC', 'Existing Customer',\n",
       "       'Live Chat-Quora', 'US Website', 'Just Dial', 'Campaign', 'Other',\n",
       "       'E-mail Campaign', 'CRM form', 'SMS Campaign', 'Personal Contact',\n",
       "       'Live Chat-Youtube', 'Live Chat-Justdial'], dtype=object)"
      ]
     },
     "execution_count": 13,
     "metadata": {},
     "output_type": "execute_result"
    }
   ],
   "source": [
    "data.Source.unique()"
   ]
  },
  {
   "cell_type": "code",
   "execution_count": 14,
   "id": "fe6f06cb",
   "metadata": {},
   "outputs": [],
   "source": [
    "## compressing and Merging the labels in column\n",
    "\n",
    "data.Source.replace(['Live Chat-Direct','Live Chat-Google Organic','Live Chat -PPC','Live Chat-Blog','Live Chat-Quora',\n",
    "                    'Live Chat-CPC','Live Chat-Google Ads','Live Chat-Adwords Remarketing',\n",
    "                    'Live Chat-Youtube','Live Chat-Justdial'],'Live Chat',inplace = True)\n",
    "data.Source.replace(['Existing Client','CRM form','Personal Contact'],'Existing Customer',inplace=True)\n",
    "data.Source.replace('By Recommendation','Customer Referral',inplace=True)\n",
    "data.Source.replace(['US Website','Just Dial'],'Website',inplace=True)\n",
    "data.Source.replace(['E-mail Campaign','SMS Campaign','E-Mail Message','Other'],'Campaign',inplace=True)"
   ]
  },
  {
   "cell_type": "code",
   "execution_count": 15,
   "id": "87d5b3c7",
   "metadata": {},
   "outputs": [
    {
     "data": {
      "text/plain": [
       "array(['Bangalore', 'Other Locations', 'Trivandrum', 'Hyderabad',\n",
       "       'Chennai', 'UK', 'USA', 'Delhi', 'UAE', 'Mumbai', 'Kolkata',\n",
       "       'Singapore', 'Pune', 'AUSTRALIA', 'EUROPE', 'Malaysia', 'Howrah'],\n",
       "      dtype=object)"
      ]
     },
     "execution_count": 15,
     "metadata": {},
     "output_type": "execute_result"
    }
   ],
   "source": [
    "data.Location.unique()"
   ]
  },
  {
   "cell_type": "code",
   "execution_count": 16,
   "id": "567fbe75",
   "metadata": {},
   "outputs": [],
   "source": [
    "data.Location.replace(['UAE','USA','UK','Singapore','AUSTRALIA', 'EUROPE', 'Malaysia',],'Foreign',inplace=True)\n",
    "data.Location.replace(['Howrah','Trivandrum', 'Kolkata',],'Other Locations',inplace=True)"
   ]
  },
  {
   "cell_type": "code",
   "execution_count": 17,
   "id": "797959a8",
   "metadata": {},
   "outputs": [
    {
     "data": {
      "text/plain": [
       "array(['9', '19', '18', '15', '27', '5', '2', '3', '25', '10', '20', '11',\n",
       "       '21', '1', '12', '13', '24', '26', '16', '23', '22', '8', '14',\n",
       "       '6', '17', '0', '28', '7', '4'], dtype=object)"
      ]
     },
     "execution_count": 17,
     "metadata": {},
     "output_type": "execute_result"
    }
   ],
   "source": [
    "data.Product_ID.unique()"
   ]
  },
  {
   "cell_type": "code",
   "execution_count": 18,
   "id": "ea80eb82",
   "metadata": {},
   "outputs": [],
   "source": [
    "data.Product_ID.replace(['8','6','3','17','22','11','7','28,','0','23','24','16','13',\n",
    "                        '4','14','26','12','2','21','25'],'minimum_sold',inplace=True)"
   ]
  },
  {
   "cell_type": "code",
   "execution_count": 19,
   "id": "4971a49e",
   "metadata": {},
   "outputs": [
    {
     "data": {
      "text/plain": [
       "array(['Potential', 'Not Responding', 'In Progress Positive',\n",
       "       'Just Enquiry', 'Junk Lead', 'CONVERTED', 'In Progress Negative',\n",
       "       'Open', 'LOST', 'Long Term', 'converted'], dtype=object)"
      ]
     },
     "execution_count": 19,
     "metadata": {},
     "output_type": "execute_result"
    }
   ],
   "source": [
    "data.Status.unique()"
   ]
  },
  {
   "cell_type": "code",
   "execution_count": 20,
   "id": "572daa56",
   "metadata": {},
   "outputs": [],
   "source": [
    "## Defining 'Status' as 'Good' or 'Bad'\n",
    "\n",
    "data.Status.replace(['CONVERTED','converted','In Progress Positive','Potential','Long Term','Open'],'High Potential',inplace=True)\n",
    "data.Status.replace(['LOST','Just Enquiry','Junk Lead','In Progress Negative','Not Responding'],'Low Potential', inplace=True)"
   ]
  },
  {
   "cell_type": "code",
   "execution_count": 21,
   "id": "680e2808",
   "metadata": {},
   "outputs": [
    {
     "data": {
      "text/html": [
       "<div>\n",
       "<style scoped>\n",
       "    .dataframe tbody tr th:only-of-type {\n",
       "        vertical-align: middle;\n",
       "    }\n",
       "\n",
       "    .dataframe tbody tr th {\n",
       "        vertical-align: top;\n",
       "    }\n",
       "\n",
       "    .dataframe thead th {\n",
       "        text-align: right;\n",
       "    }\n",
       "</style>\n",
       "<table border=\"1\" class=\"dataframe\">\n",
       "  <thead>\n",
       "    <tr style=\"text-align: right;\">\n",
       "      <th></th>\n",
       "      <th>Product_ID</th>\n",
       "      <th>Source</th>\n",
       "      <th>Sales_Agent</th>\n",
       "      <th>Location</th>\n",
       "      <th>Delivery_Mode</th>\n",
       "      <th>Status</th>\n",
       "    </tr>\n",
       "  </thead>\n",
       "  <tbody>\n",
       "    <tr>\n",
       "      <th>0</th>\n",
       "      <td>9</td>\n",
       "      <td>Live Chat</td>\n",
       "      <td>Sales-Agent-3</td>\n",
       "      <td>Bangalore</td>\n",
       "      <td>Mode-1</td>\n",
       "      <td>High Potential</td>\n",
       "    </tr>\n",
       "    <tr>\n",
       "      <th>1</th>\n",
       "      <td>19</td>\n",
       "      <td>Call</td>\n",
       "      <td>Sales-Agent-4</td>\n",
       "      <td>Other Locations</td>\n",
       "      <td>Mode-5</td>\n",
       "      <td>High Potential</td>\n",
       "    </tr>\n",
       "    <tr>\n",
       "      <th>2</th>\n",
       "      <td>18</td>\n",
       "      <td>Website</td>\n",
       "      <td>Sales-Agent-11</td>\n",
       "      <td>Other Locations</td>\n",
       "      <td>Mode-1</td>\n",
       "      <td>High Potential</td>\n",
       "    </tr>\n",
       "    <tr>\n",
       "      <th>3</th>\n",
       "      <td>15</td>\n",
       "      <td>Website</td>\n",
       "      <td>Sales-Agent-7</td>\n",
       "      <td>Hyderabad</td>\n",
       "      <td>Mode-1</td>\n",
       "      <td>Low Potential</td>\n",
       "    </tr>\n",
       "    <tr>\n",
       "      <th>4</th>\n",
       "      <td>18</td>\n",
       "      <td>Call</td>\n",
       "      <td>Sales-Agent-7</td>\n",
       "      <td>Bangalore</td>\n",
       "      <td>Mode-1</td>\n",
       "      <td>High Potential</td>\n",
       "    </tr>\n",
       "  </tbody>\n",
       "</table>\n",
       "</div>"
      ],
      "text/plain": [
       "  Product_ID     Source     Sales_Agent         Location Delivery_Mode  \\\n",
       "0          9  Live Chat   Sales-Agent-3        Bangalore        Mode-1   \n",
       "1         19       Call   Sales-Agent-4  Other Locations        Mode-5   \n",
       "2         18    Website  Sales-Agent-11  Other Locations        Mode-1   \n",
       "3         15    Website   Sales-Agent-7        Hyderabad        Mode-1   \n",
       "4         18       Call   Sales-Agent-7        Bangalore        Mode-1   \n",
       "\n",
       "           Status  \n",
       "0  High Potential  \n",
       "1  High Potential  \n",
       "2  High Potential  \n",
       "3   Low Potential  \n",
       "4  High Potential  "
      ]
     },
     "execution_count": 21,
     "metadata": {},
     "output_type": "execute_result"
    }
   ],
   "source": [
    "data.head()"
   ]
  },
  {
   "cell_type": "markdown",
   "id": "4fa7c8cd",
   "metadata": {},
   "source": [
    "# Exploratory Data Analysis"
   ]
  },
  {
   "cell_type": "code",
   "execution_count": 141,
   "id": "1c40db36",
   "metadata": {},
   "outputs": [
    {
     "data": {
      "application/vnd.jupyter.widget-view+json": {
       "model_id": "23ca82c2068a4ac09fef4436b2236f43",
       "version_major": 2,
       "version_minor": 0
      },
      "text/plain": [
       "                                             |                                             | [  0%]   00:00 ->…"
      ]
     },
     "metadata": {},
     "output_type": "display_data"
    },
    {
     "name": "stdout",
     "output_type": "stream",
     "text": [
      "Report SWEETVIZ_REPORT.html was generated! NOTEBOOK/COLAB USERS: the web browser MAY not pop up, regardless, the report IS saved in your notebook/colab files.\n"
     ]
    }
   ],
   "source": [
    "import sweetviz as sv\n",
    "my_report = sv.analyze(data)\n",
    "my_report.show_html()"
   ]
  },
  {
   "cell_type": "code",
   "execution_count": 22,
   "id": "fe460ea9",
   "metadata": {},
   "outputs": [
    {
     "data": {
      "image/png": "[encoded data removed]",
      "text/plain": [
       "<Figure size 720x432 with 1 Axes>"
      ]
     },
     "metadata": {},
     "output_type": "display_data"
    }
   ],
   "source": [
    "plt.figure(figsize=(10,6),facecolor='white')\n",
    "sns.histplot(data['Product_ID'])\n",
    "plt.xlabel('Product_ID',fontsize=20)\n",
    "plt.ylabel('Count',fontsize=20)\n",
    "plt.show()"
   ]
  },
  {
   "cell_type": "code",
   "execution_count": 23,
   "id": "a419dc81",
   "metadata": {
    "scrolled": false
   },
   "outputs": [
    {
     "data": {
      "image/png": "[encoded data removed]",
      "text/plain": [
       "<Figure size 1080x2880 with 5 Axes>"
      ]
     },
     "metadata": {},
     "output_type": "display_data"
    }
   ],
   "source": [
    "plt.figure(figsize=(15,40),facecolor='white')\n",
    "plotnumber=1\n",
    "\n",
    "for column in data:\n",
    "    if plotnumber<6:\n",
    "        ax=plt.subplot(6,1,plotnumber)\n",
    "        sns.histplot(data[column],palette='data')\n",
    "        plt.xticks(rotation=90)\n",
    "        plt.xlabel(column,fontsize=20)\n",
    "        plt.ylabel('Count',fontsize=20)\n",
    "    plotnumber+=1\n",
    "plt.tight_layout()"
   ]
  },
  {
   "cell_type": "markdown",
   "id": "5ecab957",
   "metadata": {},
   "source": [
    "# Bivariate Analysis"
   ]
  },
  {
   "cell_type": "code",
   "execution_count": 24,
   "id": "f8d7d3ad",
   "metadata": {},
   "outputs": [
    {
     "data": {
      "image/png": "[encoded data removed]",
      "text/plain": [
       "<Figure size 720x432 with 1 Axes>"
      ]
     },
     "metadata": {},
     "output_type": "display_data"
    }
   ],
   "source": [
    "plt.figure(figsize=(10,6),facecolor='white')\n",
    "sns.countplot(data['Product_ID'],palette='Set2')\n",
    "plt.xlabel('Product_ID',fontsize=20)\n",
    "plt.ylabel('Count',fontsize=20)\n",
    "plt.show()"
   ]
  },
  {
   "cell_type": "code",
   "execution_count": 26,
   "id": "ee7e229d",
   "metadata": {
    "scrolled": false
   },
   "outputs": [
    {
     "data": {
      "image/png": "[encoded data removed]",
      "text/plain": [
       "<Figure size 1080x2880 with 6 Axes>"
      ]
     },
     "metadata": {},
     "output_type": "display_data"
    }
   ],
   "source": [
    "plt.figure(figsize=(15,40),facecolor='white')\n",
    "plotnumber=1\n",
    "\n",
    "for column in data:\n",
    "    if plotnumber<=6:\n",
    "        ax=plt.subplot(6,1,plotnumber)\n",
    "        sns.countplot(data[column],palette='Set2')\n",
    "        plt.xticks(rotation=90)\n",
    "        plt.xlabel(column,fontsize=20)\n",
    "        plt.ylabel('Count',fontsize=20)\n",
    "    plotnumber+=1\n",
    "plt.tight_layout()"
   ]
  },
  {
   "cell_type": "code",
   "execution_count": 27,
   "id": "18b7550c",
   "metadata": {
    "scrolled": false
   },
   "outputs": [
    {
     "data": {
      "image/png": "[encoded data removed]",
      "text/plain": [
       "<Figure size 720x2160 with 6 Axes>"
      ]
     },
     "metadata": {},
     "output_type": "display_data"
    }
   ],
   "source": [
    "plt.figure(figsize=(10,30),facecolor='white')\n",
    "plotnumber=1\n",
    "\n",
    "for column in data:\n",
    "    if plotnumber<=6:\n",
    "        ax=plt.subplot(6,1,plotnumber)\n",
    "        sns.scatterplot(x=data['Product_ID'],y=data[column],data=data)\n",
    "        plt.xlabel('Product_ID',fontsize=10)\n",
    "    plotnumber+=1\n",
    "plt.tight_layout()"
   ]
  },
  {
   "cell_type": "code",
   "execution_count": 28,
   "id": "528ff9fb",
   "metadata": {},
   "outputs": [
    {
     "data": {
      "text/plain": [
       "<AxesSubplot:xlabel='Location', ylabel='count'>"
      ]
     },
     "execution_count": 28,
     "metadata": {},
     "output_type": "execute_result"
    },
    {
     "data": {
      "image/png": "[encoded data removed]",
      "text/plain": [
       "<Figure size 1440x576 with 1 Axes>"
      ]
     },
     "metadata": {
      "needs_background": "light"
     },
     "output_type": "display_data"
    }
   ],
   "source": [
    "plt.figure(figsize=(20, 8))\n",
    "sns.countplot(x='Location', hue='Delivery_Mode', data=data)"
   ]
  },
  {
   "cell_type": "markdown",
   "id": "b646b9ef",
   "metadata": {},
   "source": [
    "- In Banglore, the delivery mode for-1 is the maximum followed by mode -5\n",
    "\n",
    "- In other locations, the delivery mode for 5 and the maximum followed by -3\n",
    "\n",
    "- In Overseas, Hyderabad, Chennai, Delhi, Mumbai the delivery model for mode -4 is the least "
   ]
  },
  {
   "cell_type": "code",
   "execution_count": 29,
   "id": "a7ecea2a",
   "metadata": {},
   "outputs": [
    {
     "data": {
      "text/plain": [
       "<AxesSubplot:xlabel='Location', ylabel='count'>"
      ]
     },
     "execution_count": 29,
     "metadata": {},
     "output_type": "execute_result"
    },
    {
     "data": {
      "image/png": "[encoded data removed]",
      "text/plain": [
       "<Figure size 1440x576 with 1 Axes>"
      ]
     },
     "metadata": {
      "needs_background": "light"
     },
     "output_type": "display_data"
    }
   ],
   "source": [
    "plt.figure(figsize=(20,8))\n",
    "sns.countplot(x='Location', hue='Status', data=data)"
   ]
  },
  {
   "cell_type": "markdown",
   "id": "c9e912c9",
   "metadata": {},
   "source": [
    "- In Banglore, the counts for the high potential leads are maximum.\n",
    "- In other locations, the counts for the low potential leads are minimum.\n",
    "- In Foreign, the counts for the high potentials leads and low potential leads are almost the same.\n",
    "- In chennai, the counts for the high potential leads and low potential leads are almost the same.\n",
    "- Hyderabad, delhi, Mumbai, Pune the counts for low potentials leads are maximum"
   ]
  },
  {
   "cell_type": "markdown",
   "id": "94d0a067",
   "metadata": {},
   "source": [
    "# Label Encoder"
   ]
  },
  {
   "cell_type": "code",
   "execution_count": 30,
   "id": "c97f41d5",
   "metadata": {},
   "outputs": [
    {
     "data": {
      "text/html": [
       "<div>\n",
       "<style scoped>\n",
       "    .dataframe tbody tr th:only-of-type {\n",
       "        vertical-align: middle;\n",
       "    }\n",
       "\n",
       "    .dataframe tbody tr th {\n",
       "        vertical-align: top;\n",
       "    }\n",
       "\n",
       "    .dataframe thead th {\n",
       "        text-align: right;\n",
       "    }\n",
       "</style>\n",
       "<table border=\"1\" class=\"dataframe\">\n",
       "  <thead>\n",
       "    <tr style=\"text-align: right;\">\n",
       "      <th></th>\n",
       "      <th>Product_ID</th>\n",
       "      <th>Source</th>\n",
       "      <th>Sales_Agent</th>\n",
       "      <th>Location</th>\n",
       "      <th>Delivery_Mode</th>\n",
       "      <th>Status</th>\n",
       "    </tr>\n",
       "  </thead>\n",
       "  <tbody>\n",
       "    <tr>\n",
       "      <th>0</th>\n",
       "      <td>9</td>\n",
       "      <td>Live Chat</td>\n",
       "      <td>Sales-Agent-3</td>\n",
       "      <td>Bangalore</td>\n",
       "      <td>Mode-1</td>\n",
       "      <td>High Potential</td>\n",
       "    </tr>\n",
       "    <tr>\n",
       "      <th>1</th>\n",
       "      <td>19</td>\n",
       "      <td>Call</td>\n",
       "      <td>Sales-Agent-4</td>\n",
       "      <td>Other Locations</td>\n",
       "      <td>Mode-5</td>\n",
       "      <td>High Potential</td>\n",
       "    </tr>\n",
       "    <tr>\n",
       "      <th>2</th>\n",
       "      <td>18</td>\n",
       "      <td>Website</td>\n",
       "      <td>Sales-Agent-11</td>\n",
       "      <td>Other Locations</td>\n",
       "      <td>Mode-1</td>\n",
       "      <td>High Potential</td>\n",
       "    </tr>\n",
       "    <tr>\n",
       "      <th>3</th>\n",
       "      <td>15</td>\n",
       "      <td>Website</td>\n",
       "      <td>Sales-Agent-7</td>\n",
       "      <td>Hyderabad</td>\n",
       "      <td>Mode-1</td>\n",
       "      <td>Low Potential</td>\n",
       "    </tr>\n",
       "    <tr>\n",
       "      <th>4</th>\n",
       "      <td>18</td>\n",
       "      <td>Call</td>\n",
       "      <td>Sales-Agent-7</td>\n",
       "      <td>Bangalore</td>\n",
       "      <td>Mode-1</td>\n",
       "      <td>High Potential</td>\n",
       "    </tr>\n",
       "  </tbody>\n",
       "</table>\n",
       "</div>"
      ],
      "text/plain": [
       "  Product_ID     Source     Sales_Agent         Location Delivery_Mode  \\\n",
       "0          9  Live Chat   Sales-Agent-3        Bangalore        Mode-1   \n",
       "1         19       Call   Sales-Agent-4  Other Locations        Mode-5   \n",
       "2         18    Website  Sales-Agent-11  Other Locations        Mode-1   \n",
       "3         15    Website   Sales-Agent-7        Hyderabad        Mode-1   \n",
       "4         18       Call   Sales-Agent-7        Bangalore        Mode-1   \n",
       "\n",
       "           Status  \n",
       "0  High Potential  \n",
       "1  High Potential  \n",
       "2  High Potential  \n",
       "3   Low Potential  \n",
       "4  High Potential  "
      ]
     },
     "execution_count": 30,
     "metadata": {},
     "output_type": "execute_result"
    }
   ],
   "source": [
    "data.head()"
   ]
  },
  {
   "cell_type": "code",
   "execution_count": 31,
   "id": "0c508551",
   "metadata": {},
   "outputs": [],
   "source": [
    "from sklearn.preprocessing import LabelEncoder"
   ]
  },
  {
   "cell_type": "code",
   "execution_count": 32,
   "id": "b067badf",
   "metadata": {},
   "outputs": [
    {
     "data": {
      "text/html": [
       "<div>\n",
       "<style scoped>\n",
       "    .dataframe tbody tr th:only-of-type {\n",
       "        vertical-align: middle;\n",
       "    }\n",
       "\n",
       "    .dataframe tbody tr th {\n",
       "        vertical-align: top;\n",
       "    }\n",
       "\n",
       "    .dataframe thead th {\n",
       "        text-align: right;\n",
       "    }\n",
       "</style>\n",
       "<table border=\"1\" class=\"dataframe\">\n",
       "  <thead>\n",
       "    <tr style=\"text-align: right;\">\n",
       "      <th></th>\n",
       "      <th>Product_ID</th>\n",
       "      <th>Source</th>\n",
       "      <th>Sales_Agent</th>\n",
       "      <th>Location</th>\n",
       "      <th>Delivery_Mode</th>\n",
       "      <th>Status</th>\n",
       "    </tr>\n",
       "  </thead>\n",
       "  <tbody>\n",
       "    <tr>\n",
       "      <th>0</th>\n",
       "      <td>9</td>\n",
       "      <td>4</td>\n",
       "      <td>4</td>\n",
       "      <td>0</td>\n",
       "      <td>0</td>\n",
       "      <td>0</td>\n",
       "    </tr>\n",
       "    <tr>\n",
       "      <th>1</th>\n",
       "      <td>4</td>\n",
       "      <td>0</td>\n",
       "      <td>5</td>\n",
       "      <td>6</td>\n",
       "      <td>4</td>\n",
       "      <td>0</td>\n",
       "    </tr>\n",
       "    <tr>\n",
       "      <th>2</th>\n",
       "      <td>3</td>\n",
       "      <td>5</td>\n",
       "      <td>1</td>\n",
       "      <td>6</td>\n",
       "      <td>0</td>\n",
       "      <td>0</td>\n",
       "    </tr>\n",
       "    <tr>\n",
       "      <th>3</th>\n",
       "      <td>2</td>\n",
       "      <td>5</td>\n",
       "      <td>8</td>\n",
       "      <td>4</td>\n",
       "      <td>0</td>\n",
       "      <td>1</td>\n",
       "    </tr>\n",
       "    <tr>\n",
       "      <th>4</th>\n",
       "      <td>3</td>\n",
       "      <td>0</td>\n",
       "      <td>8</td>\n",
       "      <td>0</td>\n",
       "      <td>0</td>\n",
       "      <td>0</td>\n",
       "    </tr>\n",
       "  </tbody>\n",
       "</table>\n",
       "</div>"
      ],
      "text/plain": [
       "   Product_ID  Source  Sales_Agent  Location  Delivery_Mode  Status\n",
       "0           9       4            4         0              0       0\n",
       "1           4       0            5         6              4       0\n",
       "2           3       5            1         6              0       0\n",
       "3           2       5            8         4              0       1\n",
       "4           3       0            8         0              0       0"
      ]
     },
     "execution_count": 32,
     "metadata": {},
     "output_type": "execute_result"
    }
   ],
   "source": [
    "##Label encoding all the columns\n",
    "\n",
    "enc = LabelEncoder()\n",
    "for i in (0,1,2,3,4,5):\n",
    "    data.iloc[:,i]=enc.fit_transform(data.iloc[:,i])\n",
    "data.head()"
   ]
  },
  {
   "cell_type": "markdown",
   "id": "6308c953",
   "metadata": {},
   "source": [
    "# Handling Outliers"
   ]
  },
  {
   "cell_type": "code",
   "execution_count": 33,
   "id": "d46a7ad4",
   "metadata": {},
   "outputs": [
    {
     "data": {
      "image/png": "[encoded data removed]",
      "text/plain": [
       "<Figure size 720x720 with 5 Axes>"
      ]
     },
     "metadata": {},
     "output_type": "display_data"
    }
   ],
   "source": [
    "plt.figure(figsize=(10,10), facecolor='white')\n",
    "plotnumber = 1\n",
    "\n",
    "for column in data:\n",
    "    if plotnumber<6:\n",
    "        ax=plt.subplot(6,1,plotnumber)\n",
    "        sns.boxplot(x= data[column])\n",
    "        plt.xlabel(column,fontsize=20)\n",
    "    plotnumber+=1\n",
    "plt.tight_layout()"
   ]
  },
  {
   "cell_type": "markdown",
   "id": "163e8976",
   "metadata": {},
   "source": [
    "- There is no need to handle outliers"
   ]
  },
  {
   "cell_type": "markdown",
   "id": "a531d871",
   "metadata": {},
   "source": [
    "# Feature Selection"
   ]
  },
  {
   "cell_type": "code",
   "execution_count": 34,
   "id": "c37d8549",
   "metadata": {},
   "outputs": [
    {
     "name": "stdout",
     "output_type": "stream",
     "text": [
      "<class 'pandas.core.frame.DataFrame'>\n",
      "RangeIndex: 7328 entries, 0 to 7327\n",
      "Data columns (total 6 columns):\n",
      " #   Column         Non-Null Count  Dtype\n",
      "---  ------         --------------  -----\n",
      " 0   Product_ID     7328 non-null   int32\n",
      " 1   Source         7328 non-null   int32\n",
      " 2   Sales_Agent    7328 non-null   int32\n",
      " 3   Location       7328 non-null   int32\n",
      " 4   Delivery_Mode  7328 non-null   int32\n",
      " 5   Status         7328 non-null   int32\n",
      "dtypes: int32(6)\n",
      "memory usage: 171.9 KB\n"
     ]
    }
   ],
   "source": [
    "data.info()"
   ]
  },
  {
   "cell_type": "code",
   "execution_count": 35,
   "id": "73287130",
   "metadata": {},
   "outputs": [
    {
     "data": {
      "text/plain": [
       "dtype('int64')"
      ]
     },
     "execution_count": 35,
     "metadata": {},
     "output_type": "execute_result"
    }
   ],
   "source": [
    "data.isnull().sum().dtype"
   ]
  },
  {
   "cell_type": "code",
   "execution_count": 36,
   "id": "bb6c429a",
   "metadata": {},
   "outputs": [
    {
     "data": {
      "text/plain": [
       "<AxesSubplot:>"
      ]
     },
     "execution_count": 36,
     "metadata": {},
     "output_type": "execute_result"
    },
    {
     "data": {
      "image/png": "[encoded data removed]",
      "text/plain": [
       "<Figure size 720x720 with 2 Axes>"
      ]
     },
     "metadata": {
      "needs_background": "light"
     },
     "output_type": "display_data"
    }
   ],
   "source": [
    "plt.figure(figsize=(10,10))\n",
    "sns.heatmap(data.corr(), annot=True, cmap='YlGnBu')"
   ]
  },
  {
   "cell_type": "markdown",
   "id": "4b11b870",
   "metadata": {},
   "source": [
    "# Model creation"
   ]
  },
  {
   "cell_type": "code",
   "execution_count": 37,
   "id": "c8cc32d2",
   "metadata": {},
   "outputs": [],
   "source": [
    "## Creating independent and dependent variables\n",
    "\n",
    "X= data.drop('Status', axis=1)\n",
    "y = data.Status"
   ]
  },
  {
   "cell_type": "code",
   "execution_count": 38,
   "id": "75bcab4b",
   "metadata": {},
   "outputs": [
    {
     "name": "stdout",
     "output_type": "stream",
     "text": [
      "Counter({0: 4466, 1: 4466})\n"
     ]
    }
   ],
   "source": [
    "## Balancing the data\n",
    "from collections import Counter\n",
    "from imblearn.over_sampling import SMOTE\n",
    "sm=SMOTE()\n",
    "X_sm, y_sm=sm.fit_resample(X,y)\n",
    "print(Counter(y_sm))"
   ]
  },
  {
   "cell_type": "code",
   "execution_count": 39,
   "id": "af23fe57",
   "metadata": {},
   "outputs": [],
   "source": [
    "## Preparing training and testing data\n",
    "from sklearn.model_selection import train_test_split\n",
    "X_train, X_test, y_train, y_test= train_test_split(X, y, test_size=0.25, random_state=42)"
   ]
  },
  {
   "cell_type": "code",
   "execution_count": 40,
   "id": "cc5c0822",
   "metadata": {},
   "outputs": [
    {
     "data": {
      "text/html": [
       "<div>\n",
       "<style scoped>\n",
       "    .dataframe tbody tr th:only-of-type {\n",
       "        vertical-align: middle;\n",
       "    }\n",
       "\n",
       "    .dataframe tbody tr th {\n",
       "        vertical-align: top;\n",
       "    }\n",
       "\n",
       "    .dataframe thead th {\n",
       "        text-align: right;\n",
       "    }\n",
       "</style>\n",
       "<table border=\"1\" class=\"dataframe\">\n",
       "  <thead>\n",
       "    <tr style=\"text-align: right;\">\n",
       "      <th></th>\n",
       "      <th>Product_ID</th>\n",
       "      <th>Source</th>\n",
       "      <th>Sales_Agent</th>\n",
       "      <th>Location</th>\n",
       "      <th>Delivery_Mode</th>\n",
       "    </tr>\n",
       "  </thead>\n",
       "  <tbody>\n",
       "    <tr>\n",
       "      <th>29</th>\n",
       "      <td>2</td>\n",
       "      <td>0</td>\n",
       "      <td>1</td>\n",
       "      <td>6</td>\n",
       "      <td>4</td>\n",
       "    </tr>\n",
       "    <tr>\n",
       "      <th>6899</th>\n",
       "      <td>4</td>\n",
       "      <td>4</td>\n",
       "      <td>10</td>\n",
       "      <td>2</td>\n",
       "      <td>0</td>\n",
       "    </tr>\n",
       "    <tr>\n",
       "      <th>2618</th>\n",
       "      <td>2</td>\n",
       "      <td>0</td>\n",
       "      <td>3</td>\n",
       "      <td>6</td>\n",
       "      <td>4</td>\n",
       "    </tr>\n",
       "    <tr>\n",
       "      <th>2119</th>\n",
       "      <td>9</td>\n",
       "      <td>0</td>\n",
       "      <td>5</td>\n",
       "      <td>0</td>\n",
       "      <td>0</td>\n",
       "    </tr>\n",
       "    <tr>\n",
       "      <th>2890</th>\n",
       "      <td>2</td>\n",
       "      <td>5</td>\n",
       "      <td>6</td>\n",
       "      <td>5</td>\n",
       "      <td>2</td>\n",
       "    </tr>\n",
       "    <tr>\n",
       "      <th>...</th>\n",
       "      <td>...</td>\n",
       "      <td>...</td>\n",
       "      <td>...</td>\n",
       "      <td>...</td>\n",
       "      <td>...</td>\n",
       "    </tr>\n",
       "    <tr>\n",
       "      <th>5191</th>\n",
       "      <td>4</td>\n",
       "      <td>5</td>\n",
       "      <td>10</td>\n",
       "      <td>0</td>\n",
       "      <td>2</td>\n",
       "    </tr>\n",
       "    <tr>\n",
       "      <th>5226</th>\n",
       "      <td>3</td>\n",
       "      <td>5</td>\n",
       "      <td>6</td>\n",
       "      <td>1</td>\n",
       "      <td>4</td>\n",
       "    </tr>\n",
       "    <tr>\n",
       "      <th>5390</th>\n",
       "      <td>9</td>\n",
       "      <td>0</td>\n",
       "      <td>5</td>\n",
       "      <td>1</td>\n",
       "      <td>2</td>\n",
       "    </tr>\n",
       "    <tr>\n",
       "      <th>860</th>\n",
       "      <td>6</td>\n",
       "      <td>4</td>\n",
       "      <td>1</td>\n",
       "      <td>1</td>\n",
       "      <td>0</td>\n",
       "    </tr>\n",
       "    <tr>\n",
       "      <th>7270</th>\n",
       "      <td>10</td>\n",
       "      <td>1</td>\n",
       "      <td>1</td>\n",
       "      <td>0</td>\n",
       "      <td>0</td>\n",
       "    </tr>\n",
       "  </tbody>\n",
       "</table>\n",
       "<p>5496 rows × 5 columns</p>\n",
       "</div>"
      ],
      "text/plain": [
       "      Product_ID  Source  Sales_Agent  Location  Delivery_Mode\n",
       "29             2       0            1         6              4\n",
       "6899           4       4           10         2              0\n",
       "2618           2       0            3         6              4\n",
       "2119           9       0            5         0              0\n",
       "2890           2       5            6         5              2\n",
       "...          ...     ...          ...       ...            ...\n",
       "5191           4       5           10         0              2\n",
       "5226           3       5            6         1              4\n",
       "5390           9       0            5         1              2\n",
       "860            6       4            1         1              0\n",
       "7270          10       1            1         0              0\n",
       "\n",
       "[5496 rows x 5 columns]"
      ]
     },
     "execution_count": 40,
     "metadata": {},
     "output_type": "execute_result"
    }
   ],
   "source": [
    "X_train"
   ]
  },
  {
   "cell_type": "code",
   "execution_count": 41,
   "id": "0621e330",
   "metadata": {},
   "outputs": [
    {
     "data": {
      "text/plain": [
       "29      0\n",
       "6899    1\n",
       "2618    1\n",
       "2119    0\n",
       "2890    1\n",
       "       ..\n",
       "5191    0\n",
       "5226    1\n",
       "5390    1\n",
       "860     0\n",
       "7270    0\n",
       "Name: Status, Length: 5496, dtype: int32"
      ]
     },
     "execution_count": 41,
     "metadata": {},
     "output_type": "execute_result"
    }
   ],
   "source": [
    "y_train"
   ]
  },
  {
   "cell_type": "code",
   "execution_count": 42,
   "id": "791399eb",
   "metadata": {},
   "outputs": [
    {
     "data": {
      "text/html": [
       "<div>\n",
       "<style scoped>\n",
       "    .dataframe tbody tr th:only-of-type {\n",
       "        vertical-align: middle;\n",
       "    }\n",
       "\n",
       "    .dataframe tbody tr th {\n",
       "        vertical-align: top;\n",
       "    }\n",
       "\n",
       "    .dataframe thead th {\n",
       "        text-align: right;\n",
       "    }\n",
       "</style>\n",
       "<table border=\"1\" class=\"dataframe\">\n",
       "  <thead>\n",
       "    <tr style=\"text-align: right;\">\n",
       "      <th></th>\n",
       "      <th>Product_ID</th>\n",
       "      <th>Source</th>\n",
       "      <th>Sales_Agent</th>\n",
       "      <th>Location</th>\n",
       "      <th>Delivery_Mode</th>\n",
       "    </tr>\n",
       "  </thead>\n",
       "  <tbody>\n",
       "    <tr>\n",
       "      <th>2576</th>\n",
       "      <td>2</td>\n",
       "      <td>5</td>\n",
       "      <td>1</td>\n",
       "      <td>6</td>\n",
       "      <td>4</td>\n",
       "    </tr>\n",
       "    <tr>\n",
       "      <th>1565</th>\n",
       "      <td>2</td>\n",
       "      <td>4</td>\n",
       "      <td>8</td>\n",
       "      <td>6</td>\n",
       "      <td>2</td>\n",
       "    </tr>\n",
       "    <tr>\n",
       "      <th>865</th>\n",
       "      <td>2</td>\n",
       "      <td>0</td>\n",
       "      <td>8</td>\n",
       "      <td>6</td>\n",
       "      <td>4</td>\n",
       "    </tr>\n",
       "    <tr>\n",
       "      <th>5769</th>\n",
       "      <td>2</td>\n",
       "      <td>0</td>\n",
       "      <td>1</td>\n",
       "      <td>6</td>\n",
       "      <td>4</td>\n",
       "    </tr>\n",
       "    <tr>\n",
       "      <th>3728</th>\n",
       "      <td>2</td>\n",
       "      <td>5</td>\n",
       "      <td>5</td>\n",
       "      <td>6</td>\n",
       "      <td>4</td>\n",
       "    </tr>\n",
       "    <tr>\n",
       "      <th>...</th>\n",
       "      <td>...</td>\n",
       "      <td>...</td>\n",
       "      <td>...</td>\n",
       "      <td>...</td>\n",
       "      <td>...</td>\n",
       "    </tr>\n",
       "    <tr>\n",
       "      <th>367</th>\n",
       "      <td>3</td>\n",
       "      <td>4</td>\n",
       "      <td>10</td>\n",
       "      <td>3</td>\n",
       "      <td>2</td>\n",
       "    </tr>\n",
       "    <tr>\n",
       "      <th>3520</th>\n",
       "      <td>9</td>\n",
       "      <td>4</td>\n",
       "      <td>1</td>\n",
       "      <td>6</td>\n",
       "      <td>4</td>\n",
       "    </tr>\n",
       "    <tr>\n",
       "      <th>5823</th>\n",
       "      <td>2</td>\n",
       "      <td>5</td>\n",
       "      <td>6</td>\n",
       "      <td>6</td>\n",
       "      <td>0</td>\n",
       "    </tr>\n",
       "    <tr>\n",
       "      <th>4840</th>\n",
       "      <td>6</td>\n",
       "      <td>5</td>\n",
       "      <td>1</td>\n",
       "      <td>6</td>\n",
       "      <td>4</td>\n",
       "    </tr>\n",
       "    <tr>\n",
       "      <th>4279</th>\n",
       "      <td>2</td>\n",
       "      <td>5</td>\n",
       "      <td>6</td>\n",
       "      <td>6</td>\n",
       "      <td>4</td>\n",
       "    </tr>\n",
       "  </tbody>\n",
       "</table>\n",
       "<p>1832 rows × 5 columns</p>\n",
       "</div>"
      ],
      "text/plain": [
       "      Product_ID  Source  Sales_Agent  Location  Delivery_Mode\n",
       "2576           2       5            1         6              4\n",
       "1565           2       4            8         6              2\n",
       "865            2       0            8         6              4\n",
       "5769           2       0            1         6              4\n",
       "3728           2       5            5         6              4\n",
       "...          ...     ...          ...       ...            ...\n",
       "367            3       4           10         3              2\n",
       "3520           9       4            1         6              4\n",
       "5823           2       5            6         6              0\n",
       "4840           6       5            1         6              4\n",
       "4279           2       5            6         6              4\n",
       "\n",
       "[1832 rows x 5 columns]"
      ]
     },
     "execution_count": 42,
     "metadata": {},
     "output_type": "execute_result"
    }
   ],
   "source": [
    "X_test"
   ]
  },
  {
   "cell_type": "code",
   "execution_count": 43,
   "id": "481d3869",
   "metadata": {},
   "outputs": [
    {
     "data": {
      "text/plain": [
       "29      0\n",
       "6899    1\n",
       "2618    1\n",
       "2119    0\n",
       "2890    1\n",
       "       ..\n",
       "5191    0\n",
       "5226    1\n",
       "5390    1\n",
       "860     0\n",
       "7270    0\n",
       "Name: Status, Length: 5496, dtype: int32"
      ]
     },
     "execution_count": 43,
     "metadata": {},
     "output_type": "execute_result"
    }
   ],
   "source": [
    "y_train"
   ]
  },
  {
   "cell_type": "code",
   "execution_count": 44,
   "id": "ad05b071",
   "metadata": {},
   "outputs": [
    {
     "data": {
      "text/plain": [
       "(5496, 5)"
      ]
     },
     "execution_count": 44,
     "metadata": {},
     "output_type": "execute_result"
    }
   ],
   "source": [
    "X_train.shape"
   ]
  },
  {
   "cell_type": "code",
   "execution_count": 45,
   "id": "669814b5",
   "metadata": {},
   "outputs": [
    {
     "data": {
      "text/plain": [
       "(5496,)"
      ]
     },
     "execution_count": 45,
     "metadata": {},
     "output_type": "execute_result"
    }
   ],
   "source": [
    "y_train.shape"
   ]
  },
  {
   "cell_type": "code",
   "execution_count": 46,
   "id": "1d1374e4",
   "metadata": {},
   "outputs": [
    {
     "data": {
      "text/plain": [
       "(1832, 5)"
      ]
     },
     "execution_count": 46,
     "metadata": {},
     "output_type": "execute_result"
    }
   ],
   "source": [
    "X_test.shape"
   ]
  },
  {
   "cell_type": "code",
   "execution_count": 47,
   "id": "3389e815",
   "metadata": {},
   "outputs": [
    {
     "data": {
      "text/plain": [
       "(1832,)"
      ]
     },
     "execution_count": 47,
     "metadata": {},
     "output_type": "execute_result"
    }
   ],
   "source": [
    "y_test.shape"
   ]
  },
  {
   "cell_type": "markdown",
   "id": "8c45da69",
   "metadata": {},
   "source": [
    "# Logistic Regression"
   ]
  },
  {
   "cell_type": "code",
   "execution_count": 48,
   "id": "8399d69a",
   "metadata": {},
   "outputs": [
    {
     "data": {
      "text/html": [
       "<style>#sk-container-id-1 {color: black;background-color: white;}#sk-container-id-1 pre{padding: 0;}#sk-container-id-1 div.sk-toggleable {background-color: white;}#sk-container-id-1 label.sk-toggleable__label {cursor: pointer;display: block;width: 100%;margin-bottom: 0;padding: 0.3em;box-sizing: border-box;text-align: center;}#sk-container-id-1 label.sk-toggleable__label-arrow:before {content: \"▸\";float: left;margin-right: 0.25em;color: #696969;}#sk-container-id-1 label.sk-toggleable__label-arrow:hover:before {color: black;}#sk-container-id-1 div.sk-estimator:hover label.sk-toggleable__label-arrow:before {color: black;}#sk-container-id-1 div.sk-toggleable__content {max-height: 0;max-width: 0;overflow: hidden;text-align: left;background-color: #f0f8ff;}#sk-container-id-1 div.sk-toggleable__content pre {margin: 0.2em;color: black;border-radius: 0.25em;background-color: #f0f8ff;}#sk-container-id-1 input.sk-toggleable__control:checked~div.sk-toggleable__content {max-height: 200px;max-width: 100%;overflow: auto;}#sk-container-id-1 input.sk-toggleable__control:checked~label.sk-toggleable__label-arrow:before {content: \"▾\";}#sk-container-id-1 div.sk-estimator input.sk-toggleable__control:checked~label.sk-toggleable__label {background-color: #d4ebff;}#sk-container-id-1 div.sk-label input.sk-toggleable__control:checked~label.sk-toggleable__label {background-color: #d4ebff;}#sk-container-id-1 input.sk-hidden--visually {border: 0;clip: rect(1px 1px 1px 1px);clip: rect(1px, 1px, 1px, 1px);height: 1px;margin: -1px;overflow: hidden;padding: 0;position: absolute;width: 1px;}#sk-container-id-1 div.sk-estimator {font-family: monospace;background-color: #f0f8ff;border: 1px dotted black;border-radius: 0.25em;box-sizing: border-box;margin-bottom: 0.5em;}#sk-container-id-1 div.sk-estimator:hover {background-color: #d4ebff;}#sk-container-id-1 div.sk-parallel-item::after {content: \"\";width: 100%;border-bottom: 1px solid gray;flex-grow: 1;}#sk-container-id-1 div.sk-label:hover label.sk-toggleable__label {background-color: #d4ebff;}#sk-container-id-1 div.sk-serial::before {content: \"\";position: absolute;border-left: 1px solid gray;box-sizing: border-box;top: 0;bottom: 0;left: 50%;z-index: 0;}#sk-container-id-1 div.sk-serial {display: flex;flex-direction: column;align-items: center;background-color: white;padding-right: 0.2em;padding-left: 0.2em;position: relative;}#sk-container-id-1 div.sk-item {position: relative;z-index: 1;}#sk-container-id-1 div.sk-parallel {display: flex;align-items: stretch;justify-content: center;background-color: white;position: relative;}#sk-container-id-1 div.sk-item::before, #sk-container-id-1 div.sk-parallel-item::before {content: \"\";position: absolute;border-left: 1px solid gray;box-sizing: border-box;top: 0;bottom: 0;left: 50%;z-index: -1;}#sk-container-id-1 div.sk-parallel-item {display: flex;flex-direction: column;z-index: 1;position: relative;background-color: white;}#sk-container-id-1 div.sk-parallel-item:first-child::after {align-self: flex-end;width: 50%;}#sk-container-id-1 div.sk-parallel-item:last-child::after {align-self: flex-start;width: 50%;}#sk-container-id-1 div.sk-parallel-item:only-child::after {width: 0;}#sk-container-id-1 div.sk-dashed-wrapped {border: 1px dashed gray;margin: 0 0.4em 0.5em 0.4em;box-sizing: border-box;padding-bottom: 0.4em;background-color: white;}#sk-container-id-1 div.sk-label label {font-family: monospace;font-weight: bold;display: inline-block;line-height: 1.2em;}#sk-container-id-1 div.sk-label-container {text-align: center;}#sk-container-id-1 div.sk-container {/* jupyter's `normalize.less` sets `[hidden] { display: none; }` but bootstrap.min.css set `[hidden] { display: none !important; }` so we also need the `!important` here to be able to override the default hidden behavior on the sphinx rendered scikit-learn.org. See: https://github.com/scikit-learn/scikit-learn/issues/21755 */display: inline-block !important;position: relative;}#sk-container-id-1 div.sk-text-repr-fallback {display: none;}</style><div id=\"sk-container-id-1\" class=\"sk-top-container\"><div class=\"sk-text-repr-fallback\"><pre>LogisticRegression()</pre><b>In a Jupyter environment, please rerun this cell to show the HTML representation or trust the notebook. <br />On GitHub, the HTML representation is unable to render, please try loading this page with nbviewer.org.</b></div><div class=\"sk-container\" hidden><div class=\"sk-item\"><div class=\"sk-estimator sk-toggleable\"><input class=\"sk-toggleable__control sk-hidden--visually\" id=\"sk-estimator-id-1\" type=\"checkbox\" checked><label for=\"sk-estimator-id-1\" class=\"sk-toggleable__label sk-toggleable__label-arrow\">LogisticRegression</label><div class=\"sk-toggleable__content\"><pre>LogisticRegression()</pre></div></div></div></div></div>"
      ],
      "text/plain": [
       "LogisticRegression()"
      ]
     },
     "execution_count": 48,
     "metadata": {},
     "output_type": "execute_result"
    }
   ],
   "source": [
    "from sklearn.linear_model import LogisticRegression\n",
    "clf= LogisticRegression()\n",
    "clf.fit(X_train, y_train)"
   ]
  },
  {
   "cell_type": "code",
   "execution_count": 49,
   "id": "f5e28ce5",
   "metadata": {},
   "outputs": [
    {
     "data": {
      "text/plain": [
       "array([1, 1, 1, ..., 1, 1, 1])"
      ]
     },
     "execution_count": 49,
     "metadata": {},
     "output_type": "execute_result"
    }
   ],
   "source": [
    "y_pred_lr=clf.predict(X_test)\n",
    "y_pred_lr"
   ]
  },
  {
   "cell_type": "code",
   "execution_count": 50,
   "id": "a4db2a4c",
   "metadata": {},
   "outputs": [
    {
     "data": {
      "text/plain": [
       "array([1, 0, 1, ..., 0, 1, 0])"
      ]
     },
     "execution_count": 50,
     "metadata": {},
     "output_type": "execute_result"
    }
   ],
   "source": [
    "train_pred_lr=clf.predict(X_train)\n",
    "train_pred_lr"
   ]
  },
  {
   "cell_type": "markdown",
   "id": "40380572",
   "metadata": {},
   "source": [
    "### Model evaluation for Logistic regression"
   ]
  },
  {
   "cell_type": "code",
   "execution_count": 51,
   "id": "fbae4c6d",
   "metadata": {},
   "outputs": [],
   "source": [
    "from sklearn.metrics import accuracy_score, confusion_matrix, recall_score, roc_auc_score,precision_score, classification_report, f1_score"
   ]
  },
  {
   "cell_type": "code",
   "execution_count": 52,
   "id": "a43a223c",
   "metadata": {},
   "outputs": [
    {
     "name": "stdout",
     "output_type": "stream",
     "text": [
      "[[379 372]\n",
      " [240 841]]\n"
     ]
    }
   ],
   "source": [
    "cm_lr=confusion_matrix(y_test,y_pred_lr)\n",
    "print(cm_lr)"
   ]
  },
  {
   "cell_type": "code",
   "execution_count": 53,
   "id": "334c4962",
   "metadata": {},
   "outputs": [
    {
     "data": {
      "text/plain": [
       "0.7779833487511564"
      ]
     },
     "execution_count": 53,
     "metadata": {},
     "output_type": "execute_result"
    }
   ],
   "source": [
    "recall_lr=recall_score(y_test,y_pred_lr)\n",
    "recall_lr"
   ]
  },
  {
   "cell_type": "code",
   "execution_count": 54,
   "id": "1317de30",
   "metadata": {},
   "outputs": [
    {
     "data": {
      "text/plain": [
       "0.6933223413025557"
      ]
     },
     "execution_count": 54,
     "metadata": {},
     "output_type": "execute_result"
    }
   ],
   "source": [
    "precision_lr=precision_score(y_test,y_pred_lr)\n",
    "precision_lr"
   ]
  },
  {
   "cell_type": "code",
   "execution_count": 55,
   "id": "20faf89c",
   "metadata": {},
   "outputs": [
    {
     "data": {
      "text/plain": [
       "0.7332170880557978"
      ]
     },
     "execution_count": 55,
     "metadata": {},
     "output_type": "execute_result"
    }
   ],
   "source": [
    "f1score_lr=f1_score(y_test,y_pred_lr)\n",
    "f1score_lr"
   ]
  },
  {
   "cell_type": "code",
   "execution_count": 56,
   "id": "521020a1",
   "metadata": {},
   "outputs": [
    {
     "data": {
      "text/plain": [
       "0.665938864628821"
      ]
     },
     "execution_count": 56,
     "metadata": {},
     "output_type": "execute_result"
    }
   ],
   "source": [
    "acc_lr=accuracy_score(y_test,y_pred_lr)\n",
    "acc_lr"
   ]
  },
  {
   "cell_type": "code",
   "execution_count": 57,
   "id": "c244899c",
   "metadata": {},
   "outputs": [
    {
     "name": "stdout",
     "output_type": "stream",
     "text": [
      "              precision    recall  f1-score   support\n",
      "\n",
      "           0       0.61      0.50      0.55       751\n",
      "           1       0.69      0.78      0.73      1081\n",
      "\n",
      "    accuracy                           0.67      1832\n",
      "   macro avg       0.65      0.64      0.64      1832\n",
      "weighted avg       0.66      0.67      0.66      1832\n",
      "\n"
     ]
    }
   ],
   "source": [
    "cr_lr=classification_report(y_test,y_pred_lr)\n",
    "print(cr_lr)"
   ]
  },
  {
   "cell_type": "code",
   "execution_count": 58,
   "id": "7f2b9d4e",
   "metadata": {},
   "outputs": [
    {
     "data": {
      "text/plain": [
       "0.6779475982532751"
      ]
     },
     "execution_count": 58,
     "metadata": {},
     "output_type": "execute_result"
    }
   ],
   "source": [
    "acc_train_lr=accuracy_score(y_train, train_pred_lr)\n",
    "acc_train_lr"
   ]
  },
  {
   "cell_type": "code",
   "execution_count": 59,
   "id": "2b2c6ca8",
   "metadata": {},
   "outputs": [
    {
     "name": "stdout",
     "output_type": "stream",
     "text": [
      "              precision    recall  f1-score   support\n",
      "\n",
      "           0       0.59      0.51      0.55      2111\n",
      "           1       0.72      0.78      0.75      3385\n",
      "\n",
      "    accuracy                           0.68      5496\n",
      "   macro avg       0.66      0.65      0.65      5496\n",
      "weighted avg       0.67      0.68      0.67      5496\n",
      "\n"
     ]
    }
   ],
   "source": [
    "cr_train_lr=classification_report(y_train,train_pred_lr)\n",
    "print(cr_train_lr)"
   ]
  },
  {
   "cell_type": "code",
   "execution_count": 60,
   "id": "2f9bf893",
   "metadata": {},
   "outputs": [
    {
     "name": "stdout",
     "output_type": "stream",
     "text": [
      "Training Accuracy score: 67.79475982532752\n"
     ]
    }
   ],
   "source": [
    "print(\"Training Accuracy score:\",acc_train_lr*100)"
   ]
  },
  {
   "cell_type": "code",
   "execution_count": 61,
   "id": "a8200b50",
   "metadata": {},
   "outputs": [
    {
     "name": "stdout",
     "output_type": "stream",
     "text": [
      "Testing Accuracy score: 66.5938864628821\n"
     ]
    }
   ],
   "source": [
    "print('Testing Accuracy score:',acc_lr*100)"
   ]
  },
  {
   "cell_type": "code",
   "execution_count": 62,
   "id": "ac98c84a",
   "metadata": {},
   "outputs": [
    {
     "name": "stdout",
     "output_type": "stream",
     "text": [
      "Test set ROC AUC score: 0.641\n"
     ]
    }
   ],
   "source": [
    "test_roc_auc = roc_auc_score(y_test, y_pred_lr)\n",
    "\n",
    "# Print test_roc_auc\n",
    "print('Test set ROC AUC score: {:.3f}'.format(test_roc_auc))"
   ]
  },
  {
   "cell_type": "markdown",
   "id": "b49b4411",
   "metadata": {},
   "source": [
    "- Logistic Regression is not performing well on both testing and training data"
   ]
  },
  {
   "cell_type": "markdown",
   "id": "7a15f6be",
   "metadata": {},
   "source": [
    "# Decision Tree"
   ]
  },
  {
   "cell_type": "code",
   "execution_count": 63,
   "id": "27cff107",
   "metadata": {},
   "outputs": [
    {
     "data": {
      "text/plain": [
       "array([1, 1, 1, ..., 1, 1, 1])"
      ]
     },
     "execution_count": 63,
     "metadata": {},
     "output_type": "execute_result"
    }
   ],
   "source": [
    "from sklearn.tree import DecisionTreeClassifier\n",
    "dt = DecisionTreeClassifier()\n",
    "dt.fit(X_train, y_train)\n",
    "y_hat_dt = dt.predict(X_test)\n",
    "y_hat_dt"
   ]
  },
  {
   "cell_type": "code",
   "execution_count": 64,
   "id": "e05e210e",
   "metadata": {},
   "outputs": [
    {
     "data": {
      "text/plain": [
       "array([1, 0, 1, ..., 1, 0, 0])"
      ]
     },
     "execution_count": 64,
     "metadata": {},
     "output_type": "execute_result"
    }
   ],
   "source": [
    "train_predict_dt = dt.predict(X_train)\n",
    "train_predict_dt"
   ]
  },
  {
   "cell_type": "markdown",
   "id": "b45fc7e4",
   "metadata": {},
   "source": [
    "### Model Evaluation"
   ]
  },
  {
   "cell_type": "code",
   "execution_count": 65,
   "id": "3a24eca0",
   "metadata": {},
   "outputs": [],
   "source": [
    "from sklearn.metrics import accuracy_score, classification_report, f1_score, confusion_matrix, precision_score, recall_score"
   ]
  },
  {
   "cell_type": "code",
   "execution_count": 66,
   "id": "72079755",
   "metadata": {},
   "outputs": [
    {
     "name": "stdout",
     "output_type": "stream",
     "text": [
      "[[461 290]\n",
      " [311 770]]\n"
     ]
    }
   ],
   "source": [
    "cm_dt=confusion_matrix(y_test, y_hat_dt)\n",
    "print(cm_dt)"
   ]
  },
  {
   "cell_type": "code",
   "execution_count": 67,
   "id": "845a092d",
   "metadata": {},
   "outputs": [
    {
     "data": {
      "text/plain": [
       "0.7123034227567068"
      ]
     },
     "execution_count": 67,
     "metadata": {},
     "output_type": "execute_result"
    }
   ],
   "source": [
    "recall_dt=recall_score(y_test, y_hat_dt)\n",
    "recall_dt"
   ]
  },
  {
   "cell_type": "code",
   "execution_count": 68,
   "id": "5116d6c7",
   "metadata": {},
   "outputs": [
    {
     "data": {
      "text/plain": [
       "0.7264150943396226"
      ]
     },
     "execution_count": 68,
     "metadata": {},
     "output_type": "execute_result"
    }
   ],
   "source": [
    "precision_dt=precision_score(y_test, y_hat_dt)\n",
    "precision_dt"
   ]
  },
  {
   "cell_type": "code",
   "execution_count": 69,
   "id": "0849986e",
   "metadata": {},
   "outputs": [
    {
     "data": {
      "text/plain": [
       "0.7192900513778607"
      ]
     },
     "execution_count": 69,
     "metadata": {},
     "output_type": "execute_result"
    }
   ],
   "source": [
    "f1score_dt=f1_score(y_test, y_hat_dt)\n",
    "f1score_dt"
   ]
  },
  {
   "cell_type": "code",
   "execution_count": 70,
   "id": "49a9a190",
   "metadata": {},
   "outputs": [
    {
     "data": {
      "text/plain": [
       "0.6719432314410481"
      ]
     },
     "execution_count": 70,
     "metadata": {},
     "output_type": "execute_result"
    }
   ],
   "source": [
    "acc_dt=accuracy_score(y_test, y_hat_dt)\n",
    "acc_dt"
   ]
  },
  {
   "cell_type": "code",
   "execution_count": 71,
   "id": "8d6eac1e",
   "metadata": {},
   "outputs": [
    {
     "name": "stdout",
     "output_type": "stream",
     "text": [
      "              precision    recall  f1-score   support\n",
      "\n",
      "           0       0.60      0.61      0.61       751\n",
      "           1       0.73      0.71      0.72      1081\n",
      "\n",
      "    accuracy                           0.67      1832\n",
      "   macro avg       0.66      0.66      0.66      1832\n",
      "weighted avg       0.67      0.67      0.67      1832\n",
      "\n"
     ]
    }
   ],
   "source": [
    "cr_dt=classification_report(y_test, y_hat_dt)\n",
    "print(cr_dt)"
   ]
  },
  {
   "cell_type": "code",
   "execution_count": 72,
   "id": "e6bb1421",
   "metadata": {},
   "outputs": [
    {
     "data": {
      "text/plain": [
       "0.8402474526928675"
      ]
     },
     "execution_count": 72,
     "metadata": {},
     "output_type": "execute_result"
    }
   ],
   "source": [
    "acc_dt1=accuracy_score(y_train, train_predict_dt)\n",
    "acc_dt1"
   ]
  },
  {
   "cell_type": "code",
   "execution_count": 73,
   "id": "cf663f91",
   "metadata": {},
   "outputs": [
    {
     "name": "stdout",
     "output_type": "stream",
     "text": [
      "              precision    recall  f1-score   support\n",
      "\n",
      "           0       0.77      0.83      0.80      2111\n",
      "           1       0.89      0.85      0.87      3385\n",
      "\n",
      "    accuracy                           0.84      5496\n",
      "   macro avg       0.83      0.84      0.83      5496\n",
      "weighted avg       0.84      0.84      0.84      5496\n",
      "\n"
     ]
    }
   ],
   "source": [
    "cr_train_dt=classification_report(y_train, train_predict_dt)\n",
    "print(cr_train_dt)"
   ]
  },
  {
   "cell_type": "code",
   "execution_count": 74,
   "id": "5831b38f",
   "metadata": {},
   "outputs": [
    {
     "data": {
      "text/plain": [
       "0.8402474526928675"
      ]
     },
     "execution_count": 74,
     "metadata": {},
     "output_type": "execute_result"
    }
   ],
   "source": [
    "acc_dt1=accuracy_score(y_train, train_predict_dt)\n",
    "acc_dt1"
   ]
  },
  {
   "cell_type": "code",
   "execution_count": 75,
   "id": "6ab2cf30",
   "metadata": {},
   "outputs": [
    {
     "name": "stdout",
     "output_type": "stream",
     "text": [
      "              precision    recall  f1-score   support\n",
      "\n",
      "           0       0.77      0.83      0.80      2111\n",
      "           1       0.89      0.85      0.87      3385\n",
      "\n",
      "    accuracy                           0.84      5496\n",
      "   macro avg       0.83      0.84      0.83      5496\n",
      "weighted avg       0.84      0.84      0.84      5496\n",
      "\n"
     ]
    }
   ],
   "source": [
    "cr_train_dt=classification_report(y_train, train_predict_dt)\n",
    "print(cr_train_dt)"
   ]
  },
  {
   "cell_type": "code",
   "execution_count": 76,
   "id": "dc934968",
   "metadata": {},
   "outputs": [
    {
     "name": "stdout",
     "output_type": "stream",
     "text": [
      "Testing Accuracy score: 67.1943231441048\n"
     ]
    }
   ],
   "source": [
    "print('Testing Accuracy score:', acc_dt*100)"
   ]
  },
  {
   "cell_type": "code",
   "execution_count": 77,
   "id": "951682d6",
   "metadata": {},
   "outputs": [
    {
     "name": "stdout",
     "output_type": "stream",
     "text": [
      "Training Accuracy score: 84.02474526928675\n"
     ]
    }
   ],
   "source": [
    "print('Training Accuracy score:',acc_dt1*100)"
   ]
  },
  {
   "cell_type": "markdown",
   "id": "ef9767ae",
   "metadata": {},
   "source": [
    " - Decision Tree seems to be working good on Training data but not on Testing data."
   ]
  },
  {
   "cell_type": "markdown",
   "id": "c55aa291",
   "metadata": {},
   "source": [
    "### Hyperparamater tuning"
   ]
  },
  {
   "cell_type": "code",
   "execution_count": 78,
   "id": "7671362f",
   "metadata": {},
   "outputs": [
    {
     "name": "stdout",
     "output_type": "stream",
     "text": [
      "Fitting 3 folds for each of 4176 candidates, totalling 12528 fits\n",
      "Best parameters:{'criterion': 'entropy', 'max_depth': 4, 'min_samples_leaf': 1, 'min_samples_split': 2, 'splitter': 'best'}\n"
     ]
    }
   ],
   "source": [
    "## importing Library\n",
    "\n",
    "from sklearn.model_selection import GridSearchCV\n",
    "\n",
    "## Tuning the parameter\n",
    "\n",
    "params = {\n",
    "    \"criterion\":(\"gini\", \"entropy\"),\n",
    "    \"splitter\" :(\"best\", \"random\"),\n",
    "    \"max_depth\":(list(range(1, 30))),\n",
    "    \"min_samples_split\":[2,3,4,5],\n",
    "    \"min_samples_leaf\":list(range(1,10)),\n",
    "}\n",
    "\n",
    "tree_clf = DecisionTreeClassifier(random_state=3)\n",
    "tree_cv = GridSearchCV(tree_clf, params, scoring=\"f1\", n_jobs=-1, verbose=2, cv=3)\n",
    "\n",
    "# Fitting training data\n",
    "\n",
    "tree_cv.fit(X_train, y_train)\n",
    "\n",
    "# get the best paramketer\n",
    "best_params = tree_cv.best_params_\n",
    "print(f\"Best parameters:{best_params}\")\n"
   ]
  },
  {
   "cell_type": "code",
   "execution_count": 79,
   "id": "20909efb",
   "metadata": {},
   "outputs": [],
   "source": [
    "## Placing the parameter on decision tree classifier\n",
    "dt1 = DecisionTreeClassifier(criterion='entropy',\n",
    "                             max_depth=18, min_samples_leaf=1,\n",
    "                             min_samples_split=2, splitter='random')"
   ]
  },
  {
   "cell_type": "code",
   "execution_count": 80,
   "id": "944fe330",
   "metadata": {},
   "outputs": [
    {
     "data": {
      "text/plain": [
       "array([1, 1, 1, ..., 1, 1, 1])"
      ]
     },
     "execution_count": 80,
     "metadata": {},
     "output_type": "execute_result"
    }
   ],
   "source": [
    "##Fitting training data\n",
    "dt1.fit(X_train, y_train)\n",
    "\n",
    "# Prediction on testing data\n",
    "y_hat_DT = dt1.predict(X_test)\n",
    "y_hat_DT"
   ]
  },
  {
   "cell_type": "code",
   "execution_count": 81,
   "id": "8c1ecba6",
   "metadata": {},
   "outputs": [
    {
     "data": {
      "text/plain": [
       "array([1, 0, 1, ..., 1, 0, 0])"
      ]
     },
     "execution_count": 81,
     "metadata": {},
     "output_type": "execute_result"
    }
   ],
   "source": [
    "train_pred_DT=dt1.predict(X_train)\n",
    "train_pred_DT"
   ]
  },
  {
   "cell_type": "markdown",
   "id": "570989e2",
   "metadata": {},
   "source": [
    "##### Model Evaluation after Hyperparameter tuning"
   ]
  },
  {
   "cell_type": "code",
   "execution_count": 82,
   "id": "af33944d",
   "metadata": {},
   "outputs": [],
   "source": [
    "from sklearn.metrics import accuracy_score, classification_report, f1_score, confusion_matrix, precision_score, recall_score"
   ]
  },
  {
   "cell_type": "code",
   "execution_count": 83,
   "id": "658f65e8",
   "metadata": {},
   "outputs": [
    {
     "data": {
      "text/plain": [
       "0.7132284921369103"
      ]
     },
     "execution_count": 83,
     "metadata": {},
     "output_type": "execute_result"
    }
   ],
   "source": [
    "recall_DT = recall_score(y_test, y_hat_DT)\n",
    "recall_DT"
   ]
  },
  {
   "cell_type": "code",
   "execution_count": 84,
   "id": "003bf4ee",
   "metadata": {},
   "outputs": [
    {
     "data": {
      "text/plain": [
       "0.7198879551820728"
      ]
     },
     "execution_count": 84,
     "metadata": {},
     "output_type": "execute_result"
    }
   ],
   "source": [
    "precision_DT = precision_score(y_test, y_hat_DT)\n",
    "precision_DT"
   ]
  },
  {
   "cell_type": "code",
   "execution_count": 85,
   "id": "27116d31",
   "metadata": {},
   "outputs": [
    {
     "data": {
      "text/plain": [
       "0.716542750929368"
      ]
     },
     "execution_count": 85,
     "metadata": {},
     "output_type": "execute_result"
    }
   ],
   "source": [
    "f1score_DT=f1_score(y_test, y_hat_DT)\n",
    "f1score_DT"
   ]
  },
  {
   "cell_type": "code",
   "execution_count": 86,
   "id": "0fe186d5",
   "metadata": {},
   "outputs": [
    {
     "data": {
      "text/plain": [
       "0.6670305676855895"
      ]
     },
     "execution_count": 86,
     "metadata": {},
     "output_type": "execute_result"
    }
   ],
   "source": [
    "acc_DT = accuracy_score(y_test, y_hat_DT)\n",
    "acc_DT"
   ]
  },
  {
   "cell_type": "code",
   "execution_count": 87,
   "id": "10a33c4f",
   "metadata": {},
   "outputs": [
    {
     "name": "stdout",
     "output_type": "stream",
     "text": [
      "[[451 300]\n",
      " [310 771]]\n"
     ]
    }
   ],
   "source": [
    "cm_DT = confusion_matrix(y_test, y_hat_DT)\n",
    "print(cm_DT)"
   ]
  },
  {
   "cell_type": "code",
   "execution_count": 88,
   "id": "89674cab",
   "metadata": {},
   "outputs": [
    {
     "name": "stdout",
     "output_type": "stream",
     "text": [
      "              precision    recall  f1-score   support\n",
      "\n",
      "           0       0.59      0.60      0.60       751\n",
      "           1       0.72      0.71      0.72      1081\n",
      "\n",
      "    accuracy                           0.67      1832\n",
      "   macro avg       0.66      0.66      0.66      1832\n",
      "weighted avg       0.67      0.67      0.67      1832\n",
      "\n"
     ]
    }
   ],
   "source": [
    "cr_DT = classification_report(y_test, y_hat_DT)\n",
    "print(cr_DT)"
   ]
  },
  {
   "cell_type": "code",
   "execution_count": 89,
   "id": "3b50f290",
   "metadata": {},
   "outputs": [
    {
     "data": {
      "text/plain": [
       "0.8393377001455604"
      ]
     },
     "execution_count": 89,
     "metadata": {},
     "output_type": "execute_result"
    }
   ],
   "source": [
    "acc_DT1 = accuracy_score(y_train, train_pred_DT)\n",
    "acc_DT1"
   ]
  },
  {
   "cell_type": "code",
   "execution_count": 90,
   "id": "af185c38",
   "metadata": {},
   "outputs": [
    {
     "name": "stdout",
     "output_type": "stream",
     "text": [
      "              precision    recall  f1-score   support\n",
      "\n",
      "           0       0.77      0.83      0.80      2111\n",
      "           1       0.89      0.85      0.87      3385\n",
      "\n",
      "    accuracy                           0.84      5496\n",
      "   macro avg       0.83      0.84      0.83      5496\n",
      "weighted avg       0.84      0.84      0.84      5496\n",
      "\n"
     ]
    }
   ],
   "source": [
    "cr_train_DT = classification_report(y_train, train_pred_DT)\n",
    "print(cr_train_DT)"
   ]
  },
  {
   "cell_type": "code",
   "execution_count": 91,
   "id": "927e83c8",
   "metadata": {},
   "outputs": [
    {
     "name": "stdout",
     "output_type": "stream",
     "text": [
      "Testing Accurcay score after hyperparameter tuning: 66.70305676855895\n"
     ]
    }
   ],
   "source": [
    "print(\"Testing Accurcay score after hyperparameter tuning:\", acc_DT*100)"
   ]
  },
  {
   "cell_type": "code",
   "execution_count": 92,
   "id": "6abe65ff",
   "metadata": {},
   "outputs": [
    {
     "name": "stdout",
     "output_type": "stream",
     "text": [
      "Training Accuracy score after hyperparameter tuning: 83.93377001455605\n"
     ]
    }
   ],
   "source": [
    "print(\"Training Accuracy score after hyperparameter tuning:\", acc_DT1*100)"
   ]
  },
  {
   "cell_type": "code",
   "execution_count": 93,
   "id": "d980bbca",
   "metadata": {},
   "outputs": [
    {
     "name": "stdout",
     "output_type": "stream",
     "text": [
      "Test set ROC AUC score: 0.657\n"
     ]
    }
   ],
   "source": [
    "test_roc_auc = roc_auc_score(y_test, y_hat_DT)\n",
    "\n",
    "# Print test_roc_auc\n",
    "print('Test set ROC AUC score: {:.3f}'.format(test_roc_auc))"
   ]
  },
  {
   "cell_type": "markdown",
   "id": "e2295a53",
   "metadata": {},
   "source": [
    " - Not much improvement is observed after hyperparameter tuning"
   ]
  },
  {
   "cell_type": "markdown",
   "id": "afb53e3b",
   "metadata": {},
   "source": [
    "# Random Forest Classifier"
   ]
  },
  {
   "cell_type": "code",
   "execution_count": 94,
   "id": "1ab742c6",
   "metadata": {},
   "outputs": [
    {
     "data": {
      "text/html": [
       "<style>#sk-container-id-2 {color: black;background-color: white;}#sk-container-id-2 pre{padding: 0;}#sk-container-id-2 div.sk-toggleable {background-color: white;}#sk-container-id-2 label.sk-toggleable__label {cursor: pointer;display: block;width: 100%;margin-bottom: 0;padding: 0.3em;box-sizing: border-box;text-align: center;}#sk-container-id-2 label.sk-toggleable__label-arrow:before {content: \"▸\";float: left;margin-right: 0.25em;color: #696969;}#sk-container-id-2 label.sk-toggleable__label-arrow:hover:before {color: black;}#sk-container-id-2 div.sk-estimator:hover label.sk-toggleable__label-arrow:before {color: black;}#sk-container-id-2 div.sk-toggleable__content {max-height: 0;max-width: 0;overflow: hidden;text-align: left;background-color: #f0f8ff;}#sk-container-id-2 div.sk-toggleable__content pre {margin: 0.2em;color: black;border-radius: 0.25em;background-color: #f0f8ff;}#sk-container-id-2 input.sk-toggleable__control:checked~div.sk-toggleable__content {max-height: 200px;max-width: 100%;overflow: auto;}#sk-container-id-2 input.sk-toggleable__control:checked~label.sk-toggleable__label-arrow:before {content: \"▾\";}#sk-container-id-2 div.sk-estimator input.sk-toggleable__control:checked~label.sk-toggleable__label {background-color: #d4ebff;}#sk-container-id-2 div.sk-label input.sk-toggleable__control:checked~label.sk-toggleable__label {background-color: #d4ebff;}#sk-container-id-2 input.sk-hidden--visually {border: 0;clip: rect(1px 1px 1px 1px);clip: rect(1px, 1px, 1px, 1px);height: 1px;margin: -1px;overflow: hidden;padding: 0;position: absolute;width: 1px;}#sk-container-id-2 div.sk-estimator {font-family: monospace;background-color: #f0f8ff;border: 1px dotted black;border-radius: 0.25em;box-sizing: border-box;margin-bottom: 0.5em;}#sk-container-id-2 div.sk-estimator:hover {background-color: #d4ebff;}#sk-container-id-2 div.sk-parallel-item::after {content: \"\";width: 100%;border-bottom: 1px solid gray;flex-grow: 1;}#sk-container-id-2 div.sk-label:hover label.sk-toggleable__label {background-color: #d4ebff;}#sk-container-id-2 div.sk-serial::before {content: \"\";position: absolute;border-left: 1px solid gray;box-sizing: border-box;top: 0;bottom: 0;left: 50%;z-index: 0;}#sk-container-id-2 div.sk-serial {display: flex;flex-direction: column;align-items: center;background-color: white;padding-right: 0.2em;padding-left: 0.2em;position: relative;}#sk-container-id-2 div.sk-item {position: relative;z-index: 1;}#sk-container-id-2 div.sk-parallel {display: flex;align-items: stretch;justify-content: center;background-color: white;position: relative;}#sk-container-id-2 div.sk-item::before, #sk-container-id-2 div.sk-parallel-item::before {content: \"\";position: absolute;border-left: 1px solid gray;box-sizing: border-box;top: 0;bottom: 0;left: 50%;z-index: -1;}#sk-container-id-2 div.sk-parallel-item {display: flex;flex-direction: column;z-index: 1;position: relative;background-color: white;}#sk-container-id-2 div.sk-parallel-item:first-child::after {align-self: flex-end;width: 50%;}#sk-container-id-2 div.sk-parallel-item:last-child::after {align-self: flex-start;width: 50%;}#sk-container-id-2 div.sk-parallel-item:only-child::after {width: 0;}#sk-container-id-2 div.sk-dashed-wrapped {border: 1px dashed gray;margin: 0 0.4em 0.5em 0.4em;box-sizing: border-box;padding-bottom: 0.4em;background-color: white;}#sk-container-id-2 div.sk-label label {font-family: monospace;font-weight: bold;display: inline-block;line-height: 1.2em;}#sk-container-id-2 div.sk-label-container {text-align: center;}#sk-container-id-2 div.sk-container {/* jupyter's `normalize.less` sets `[hidden] { display: none; }` but bootstrap.min.css set `[hidden] { display: none !important; }` so we also need the `!important` here to be able to override the default hidden behavior on the sphinx rendered scikit-learn.org. See: https://github.com/scikit-learn/scikit-learn/issues/21755 */display: inline-block !important;position: relative;}#sk-container-id-2 div.sk-text-repr-fallback {display: none;}</style><div id=\"sk-container-id-2\" class=\"sk-top-container\"><div class=\"sk-text-repr-fallback\"><pre>RandomForestClassifier()</pre><b>In a Jupyter environment, please rerun this cell to show the HTML representation or trust the notebook. <br />On GitHub, the HTML representation is unable to render, please try loading this page with nbviewer.org.</b></div><div class=\"sk-container\" hidden><div class=\"sk-item\"><div class=\"sk-estimator sk-toggleable\"><input class=\"sk-toggleable__control sk-hidden--visually\" id=\"sk-estimator-id-2\" type=\"checkbox\" checked><label for=\"sk-estimator-id-2\" class=\"sk-toggleable__label sk-toggleable__label-arrow\">RandomForestClassifier</label><div class=\"sk-toggleable__content\"><pre>RandomForestClassifier()</pre></div></div></div></div></div>"
      ],
      "text/plain": [
       "RandomForestClassifier()"
      ]
     },
     "execution_count": 94,
     "metadata": {},
     "output_type": "execute_result"
    }
   ],
   "source": [
    "from sklearn.ensemble import RandomForestClassifier\n",
    "\n",
    "rf_clf = RandomForestClassifier(n_estimators=100)\n",
    "rf_clf.fit(X_train,y_train)"
   ]
  },
  {
   "cell_type": "code",
   "execution_count": 95,
   "id": "e78638e3",
   "metadata": {},
   "outputs": [
    {
     "data": {
      "text/plain": [
       "array([1, 1, 1, ..., 1, 1, 1])"
      ]
     },
     "execution_count": 95,
     "metadata": {},
     "output_type": "execute_result"
    }
   ],
   "source": [
    "y_pred_rf=rf_clf.predict(X_test)\n",
    "y_pred_rf"
   ]
  },
  {
   "cell_type": "code",
   "execution_count": 96,
   "id": "be005be9",
   "metadata": {},
   "outputs": [
    {
     "data": {
      "text/plain": [
       "array([1, 0, 1, ..., 1, 0, 0])"
      ]
     },
     "execution_count": 96,
     "metadata": {},
     "output_type": "execute_result"
    }
   ],
   "source": [
    "train_predict_rf=rf_clf.predict(X_train)\n",
    "train_predict_rf"
   ]
  },
  {
   "cell_type": "markdown",
   "id": "1f2d05e5",
   "metadata": {},
   "source": [
    "### Model Evaluation"
   ]
  },
  {
   "cell_type": "code",
   "execution_count": 97,
   "id": "9fdfbc48",
   "metadata": {},
   "outputs": [],
   "source": [
    "from sklearn.metrics import accuracy_score, classification_report, f1_score, confusion_matrix, precision_score, recall_score"
   ]
  },
  {
   "cell_type": "code",
   "execution_count": 98,
   "id": "0d55533e",
   "metadata": {},
   "outputs": [
    {
     "name": "stdout",
     "output_type": "stream",
     "text": [
      "[[419 332]\n",
      " [259 822]]\n"
     ]
    }
   ],
   "source": [
    "cm_rf = confusion_matrix(y_test,y_pred_rf)\n",
    "print(cm_rf)"
   ]
  },
  {
   "cell_type": "code",
   "execution_count": 99,
   "id": "af8a1ba7",
   "metadata": {},
   "outputs": [
    {
     "data": {
      "text/plain": [
       "0.7604070305272895"
      ]
     },
     "execution_count": 99,
     "metadata": {},
     "output_type": "execute_result"
    }
   ],
   "source": [
    "recall_rf=recall_score(y_test, y_pred_rf)\n",
    "recall_rf"
   ]
  },
  {
   "cell_type": "code",
   "execution_count": 100,
   "id": "f28aae70",
   "metadata": {},
   "outputs": [
    {
     "data": {
      "text/plain": [
       "0.7355704697986577"
      ]
     },
     "execution_count": 100,
     "metadata": {},
     "output_type": "execute_result"
    }
   ],
   "source": [
    "f1score_rf=f1_score(y_test,y_pred_rf)\n",
    "f1score_rf"
   ]
  },
  {
   "cell_type": "code",
   "execution_count": 101,
   "id": "ceed80e3",
   "metadata": {},
   "outputs": [
    {
     "data": {
      "text/plain": [
       "0.6774017467248908"
      ]
     },
     "execution_count": 101,
     "metadata": {},
     "output_type": "execute_result"
    }
   ],
   "source": [
    "acc_rf=accuracy_score(y_test, y_pred_rf)\n",
    "acc_rf"
   ]
  },
  {
   "cell_type": "code",
   "execution_count": 102,
   "id": "079b9984",
   "metadata": {},
   "outputs": [
    {
     "name": "stdout",
     "output_type": "stream",
     "text": [
      "              precision    recall  f1-score   support\n",
      "\n",
      "           0       0.80      0.77      0.79      2111\n",
      "           1       0.86      0.88      0.87      3385\n",
      "\n",
      "    accuracy                           0.84      5496\n",
      "   macro avg       0.83      0.83      0.83      5496\n",
      "weighted avg       0.84      0.84      0.84      5496\n",
      "\n"
     ]
    }
   ],
   "source": [
    "cr_rf=classification_report(y_train,train_predict_rf)\n",
    "print(cr_rf)"
   ]
  },
  {
   "cell_type": "code",
   "execution_count": 103,
   "id": "0cd25962",
   "metadata": {},
   "outputs": [
    {
     "name": "stdout",
     "output_type": "stream",
     "text": [
      "Testing Accoracy score: 67.74017467248909\n"
     ]
    }
   ],
   "source": [
    "print('Testing Accoracy score:',acc_rf*100)"
   ]
  },
  {
   "cell_type": "code",
   "execution_count": 104,
   "id": "85d1bdf9",
   "metadata": {},
   "outputs": [
    {
     "name": "stdout",
     "output_type": "stream",
     "text": [
      "Training Accuracy_score: 67.74017467248909\n"
     ]
    }
   ],
   "source": [
    "print('Training Accuracy_score:',acc_rf*100)"
   ]
  },
  {
   "cell_type": "code",
   "execution_count": 105,
   "id": "4f7c2f1c",
   "metadata": {},
   "outputs": [
    {
     "data": {
      "text/plain": [
       "0.8402474526928675"
      ]
     },
     "execution_count": 105,
     "metadata": {},
     "output_type": "execute_result"
    }
   ],
   "source": [
    "acc_rf1=accuracy_score(y_train,train_predict_rf)\n",
    "acc_rf1"
   ]
  },
  {
   "cell_type": "code",
   "execution_count": 106,
   "id": "70b5bd5c",
   "metadata": {},
   "outputs": [
    {
     "name": "stdout",
     "output_type": "stream",
     "text": [
      "              precision    recall  f1-score   support\n",
      "\n",
      "           0       0.80      0.77      0.79      2111\n",
      "           1       0.86      0.88      0.87      3385\n",
      "\n",
      "    accuracy                           0.84      5496\n",
      "   macro avg       0.83      0.83      0.83      5496\n",
      "weighted avg       0.84      0.84      0.84      5496\n",
      "\n"
     ]
    }
   ],
   "source": [
    "cr_rf1=classification_report(y_train,train_predict_rf)\n",
    "print(cr_rf1)"
   ]
  },
  {
   "cell_type": "code",
   "execution_count": 107,
   "id": "9215cdc0",
   "metadata": {},
   "outputs": [
    {
     "name": "stdout",
     "output_type": "stream",
     "text": [
      "Testing Accuracy score: 67.74017467248909\n"
     ]
    }
   ],
   "source": [
    "print('Testing Accuracy score:',acc_rf*100)"
   ]
  },
  {
   "cell_type": "code",
   "execution_count": 108,
   "id": "22320053",
   "metadata": {},
   "outputs": [
    {
     "name": "stdout",
     "output_type": "stream",
     "text": [
      "Training Accuracy Score: 84.02474526928675\n"
     ]
    }
   ],
   "source": [
    "print(\"Training Accuracy Score:\",acc_rf1*100)"
   ]
  },
  {
   "cell_type": "markdown",
   "id": "68deb1a7",
   "metadata": {},
   "source": [
    "- Random Forest Classifier is performing much well on training data than testing data"
   ]
  },
  {
   "cell_type": "markdown",
   "id": "5190b5c0",
   "metadata": {},
   "source": [
    "# Hyperparameter Tuning"
   ]
  },
  {
   "cell_type": "code",
   "execution_count": 109,
   "id": "4f3dd7a4",
   "metadata": {},
   "outputs": [
    {
     "name": "stdout",
     "output_type": "stream",
     "text": [
      "Fitting 3 folds for each of 100 candidates, totalling 300 fits\n",
      "Best parameters:{'n_estimators': 1366, 'min_samples_split': 15, 'min_samples_leaf': 2, 'max_features': 'auto', 'max_depth': 10})\n"
     ]
    }
   ],
   "source": [
    "## Imutation of parameter\n",
    "\n",
    "from sklearn.model_selection import RandomizedSearchCV\n",
    "\n",
    "# not used grid search cv beacuase memory reason\n",
    "\n",
    "n_estimators = [int(x) for x in np.linspace(start=100, stop=2000, num=10)]\n",
    "max_features = ['auto','sqrt']\n",
    "max_depth = [int(x) for x in np.linspace(10,110, num=10)]\n",
    "max_depth.append(None)\n",
    "min_samples_split = [2,5,15]\n",
    "min_samples_leaf = [1,2,4]\n",
    "\n",
    "\n",
    "## Dictionary of parameter\n",
    "random_grid = {'n_estimators': n_estimators , 'max_features':max_features,\n",
    "              'max_depth':max_depth, 'min_samples_split':min_samples_split,\n",
    "              'min_samples_leaf':min_samples_leaf}\n",
    "\n",
    "## object creation\n",
    "\n",
    "rf_clf1 = RandomForestClassifier(random_state=42)\n",
    "# provide random state beacuse select row and column randomly\n",
    "\n",
    "#Randomized search cv with parameter\n",
    "rf_cv = RandomizedSearchCV(estimator=rf_clf1, scoring='f1',param_distributions=random_grid, n_iter=100, cv=3,\n",
    "                          verbose=3, random_state=42, n_jobs=-1)\n",
    "\n",
    "## Fitting the training data\n",
    "rf_cv.fit(X_train, y_train)\n",
    "\n",
    "## Getting the best parameter\n",
    "rf_best_params = rf_cv.best_params_\n",
    "print(f\"Best parameters:{rf_best_params})\")"
   ]
  },
  {
   "cell_type": "code",
   "execution_count": 110,
   "id": "68a76d28",
   "metadata": {},
   "outputs": [
    {
     "data": {
      "text/plain": [
       "array([1, 1, 1, ..., 1, 1, 1])"
      ]
     },
     "execution_count": 110,
     "metadata": {},
     "output_type": "execute_result"
    }
   ],
   "source": [
    "rf_clf2 = RandomForestClassifier(**rf_best_params)\n",
    "\n",
    "## Fitting the training data\n",
    "rf_clf2.fit(X_train, y_train)\n",
    "\n",
    "## Prediction on test data\n",
    "y_pred_RF = rf_clf2.predict(X_test)\n",
    "y_pred_RF"
   ]
  },
  {
   "cell_type": "code",
   "execution_count": 111,
   "id": "dd387d3c",
   "metadata": {},
   "outputs": [
    {
     "data": {
      "text/plain": [
       "array([1, 0, 1, ..., 1, 1, 0])"
      ]
     },
     "execution_count": 111,
     "metadata": {},
     "output_type": "execute_result"
    }
   ],
   "source": [
    "train_predict_RF = rf_clf2.predict(X_train)\n",
    "train_predict_RF"
   ]
  },
  {
   "cell_type": "markdown",
   "id": "6a76a34f",
   "metadata": {},
   "source": [
    "#### Model Evaluation after hyperparameter tuning"
   ]
  },
  {
   "cell_type": "code",
   "execution_count": 112,
   "id": "5c549680",
   "metadata": {},
   "outputs": [],
   "source": [
    "from sklearn.metrics import accuracy_score, classification_report, f1_score, confusion_matrix, precision_score, recall_score"
   ]
  },
  {
   "cell_type": "code",
   "execution_count": 113,
   "id": "97922b7d",
   "metadata": {},
   "outputs": [
    {
     "data": {
      "text/plain": [
       "0.8334875115633672"
      ]
     },
     "execution_count": 113,
     "metadata": {},
     "output_type": "execute_result"
    }
   ],
   "source": [
    "recall_RF1 = recall_score(y_test, y_pred_RF)\n",
    "recall_RF1"
   ]
  },
  {
   "cell_type": "code",
   "execution_count": 114,
   "id": "afc1d33c",
   "metadata": {},
   "outputs": [
    {
     "data": {
      "text/plain": [
       "0.7208"
      ]
     },
     "execution_count": 114,
     "metadata": {},
     "output_type": "execute_result"
    }
   ],
   "source": [
    "precision_RF1 = precision_score(y_test, y_pred_RF)\n",
    "precision_RF1"
   ]
  },
  {
   "cell_type": "code",
   "execution_count": 115,
   "id": "cad18c49",
   "metadata": {},
   "outputs": [
    {
     "data": {
      "text/plain": [
       "0.773058773058773"
      ]
     },
     "execution_count": 115,
     "metadata": {},
     "output_type": "execute_result"
    }
   ],
   "source": [
    "f1score_RF1 = f1_score(y_test, y_pred_RF)\n",
    "f1score_RF1"
   ]
  },
  {
   "cell_type": "code",
   "execution_count": 116,
   "id": "0fd86a07",
   "metadata": {},
   "outputs": [
    {
     "data": {
      "text/plain": [
       "0.7112445414847162"
      ]
     },
     "execution_count": 116,
     "metadata": {},
     "output_type": "execute_result"
    }
   ],
   "source": [
    "acc_RF1 =accuracy_score(y_test, y_pred_RF)\n",
    "acc_RF1"
   ]
  },
  {
   "cell_type": "code",
   "execution_count": 117,
   "id": "8ff9aed9",
   "metadata": {},
   "outputs": [
    {
     "data": {
      "text/plain": [
       "0.6774017467248908"
      ]
     },
     "execution_count": 117,
     "metadata": {},
     "output_type": "execute_result"
    }
   ],
   "source": [
    "acc_RF=accuracy_score(y_test, y_pred_rf)\n",
    "acc_RF"
   ]
  },
  {
   "cell_type": "code",
   "execution_count": 118,
   "id": "1b3c74dc",
   "metadata": {},
   "outputs": [
    {
     "name": "stdout",
     "output_type": "stream",
     "text": [
      "              precision    recall  f1-score   support\n",
      "\n",
      "           0       0.69      0.54      0.60       751\n",
      "           1       0.72      0.83      0.77      1081\n",
      "\n",
      "    accuracy                           0.71      1832\n",
      "   macro avg       0.71      0.68      0.69      1832\n",
      "weighted avg       0.71      0.71      0.70      1832\n",
      "\n"
     ]
    }
   ],
   "source": [
    "cr_RF = classification_report(y_test, y_pred_RF)\n",
    "print(cr_RF)"
   ]
  },
  {
   "cell_type": "code",
   "execution_count": 119,
   "id": "68340930",
   "metadata": {},
   "outputs": [
    {
     "name": "stdout",
     "output_type": "stream",
     "text": [
      "              precision    recall  f1-score   support\n",
      "\n",
      "           0       0.75      0.61      0.67      2111\n",
      "           1       0.78      0.87      0.82      3385\n",
      "\n",
      "    accuracy                           0.77      5496\n",
      "   macro avg       0.76      0.74      0.75      5496\n",
      "weighted avg       0.77      0.77      0.77      5496\n",
      "\n"
     ]
    }
   ],
   "source": [
    "cr_RF1 = classification_report(y_train, train_predict_RF)\n",
    "print(cr_RF1)"
   ]
  },
  {
   "cell_type": "code",
   "execution_count": 120,
   "id": "ebef40bb",
   "metadata": {},
   "outputs": [
    {
     "name": "stdout",
     "output_type": "stream",
     "text": [
      "Testing Accuracy score after hyperparameter tuning: 67.74017467248909\n"
     ]
    }
   ],
   "source": [
    "print('Testing Accuracy score after hyperparameter tuning:', acc_RF*100)"
   ]
  },
  {
   "cell_type": "code",
   "execution_count": 121,
   "id": "afed5ee2",
   "metadata": {},
   "outputs": [
    {
     "name": "stdout",
     "output_type": "stream",
     "text": [
      "Training Accuracy score after hyperparameter tuning: 71.12445414847161\n"
     ]
    }
   ],
   "source": [
    "print('Training Accuracy score after hyperparameter tuning:',acc_RF1*100)"
   ]
  },
  {
   "cell_type": "code",
   "execution_count": 122,
   "id": "904a06cb",
   "metadata": {},
   "outputs": [
    {
     "name": "stdout",
     "output_type": "stream",
     "text": [
      "Test set ROC AUC score: 0.659\n"
     ]
    }
   ],
   "source": [
    "test_roc_auc = roc_auc_score(y_test, y_pred_rf)\n",
    "\n",
    "# Print test_roc_auc\n",
    "print('Test set ROC AUC score: {:.3f}'.format(test_roc_auc))"
   ]
  },
  {
   "cell_type": "markdown",
   "id": "fee00952",
   "metadata": {},
   "source": [
    "# Gradient Boosting Classifier"
   ]
  },
  {
   "cell_type": "code",
   "execution_count": 123,
   "id": "83269d5f",
   "metadata": {},
   "outputs": [
    {
     "data": {
      "text/plain": [
       "array([1, 1, 1, ..., 1, 1, 1])"
      ]
     },
     "execution_count": 123,
     "metadata": {},
     "output_type": "execute_result"
    }
   ],
   "source": [
    "from sklearn.ensemble import GradientBoostingClassifier\n",
    "gbc=GradientBoostingClassifier(learning_rate=0.1, n_estimators=150, random_state=42)\n",
    "gbc.fit(X_train, y_train)\n",
    "gbc_pred=gbc.predict(X_test)\n",
    "gbc_pred"
   ]
  },
  {
   "cell_type": "code",
   "execution_count": 124,
   "id": "1ecbedbe",
   "metadata": {},
   "outputs": [
    {
     "data": {
      "text/plain": [
       "array([1, 0, 1, ..., 0, 1, 0])"
      ]
     },
     "execution_count": 124,
     "metadata": {},
     "output_type": "execute_result"
    }
   ],
   "source": [
    "train_predict_gbc=gbc.predict(X_train)\n",
    "train_predict_gbc"
   ]
  },
  {
   "cell_type": "markdown",
   "id": "ff51c3b8",
   "metadata": {},
   "source": [
    "### Model Evaluation"
   ]
  },
  {
   "cell_type": "code",
   "execution_count": 125,
   "id": "1ff226cf",
   "metadata": {},
   "outputs": [],
   "source": [
    "from sklearn.metrics import accuracy_score,classification_report,f1_score,confusion_matrix,precision_score,recall_score"
   ]
  },
  {
   "cell_type": "code",
   "execution_count": 126,
   "id": "835e1ce0",
   "metadata": {},
   "outputs": [
    {
     "data": {
      "text/plain": [
       "0.8334875115633672"
      ]
     },
     "execution_count": 126,
     "metadata": {},
     "output_type": "execute_result"
    }
   ],
   "source": [
    "recall_gbc=recall_score(y_test,gbc_pred)\n",
    "recall_gbc"
   ]
  },
  {
   "cell_type": "code",
   "execution_count": 127,
   "id": "7375fe4e",
   "metadata": {},
   "outputs": [
    {
     "data": {
      "text/plain": [
       "0.726027397260274"
      ]
     },
     "execution_count": 127,
     "metadata": {},
     "output_type": "execute_result"
    }
   ],
   "source": [
    "precision_gbc = precision_score(y_test, gbc_pred)\n",
    "precision_gbc"
   ]
  },
  {
   "cell_type": "code",
   "execution_count": 128,
   "id": "c8aaf4c5",
   "metadata": {},
   "outputs": [
    {
     "data": {
      "text/plain": [
       "0.726027397260274"
      ]
     },
     "execution_count": 128,
     "metadata": {},
     "output_type": "execute_result"
    }
   ],
   "source": [
    "precision_gbc=precision_score(y_test,gbc_pred)\n",
    "precision_gbc"
   ]
  },
  {
   "cell_type": "code",
   "execution_count": 129,
   "id": "03684d43",
   "metadata": {},
   "outputs": [
    {
     "data": {
      "text/plain": [
       "0.7161572052401747"
      ]
     },
     "execution_count": 129,
     "metadata": {},
     "output_type": "execute_result"
    }
   ],
   "source": [
    "acc_gbc=accuracy_score(y_test, gbc_pred)\n",
    "acc_gbc"
   ]
  },
  {
   "cell_type": "code",
   "execution_count": 130,
   "id": "349b1e43",
   "metadata": {},
   "outputs": [
    {
     "data": {
      "text/plain": [
       "0.8334875115633672"
      ]
     },
     "execution_count": 130,
     "metadata": {},
     "output_type": "execute_result"
    }
   ],
   "source": [
    "f1score_gbc=recall_score(y_test, gbc_pred)\n",
    "f1score_gbc"
   ]
  },
  {
   "cell_type": "code",
   "execution_count": 131,
   "id": "fb28afa1",
   "metadata": {},
   "outputs": [
    {
     "name": "stdout",
     "output_type": "stream",
     "text": [
      "[[411 340]\n",
      " [180 901]]\n"
     ]
    }
   ],
   "source": [
    "cm_gbc=confusion_matrix(y_test,gbc_pred)\n",
    "print(cm_gbc)"
   ]
  },
  {
   "cell_type": "code",
   "execution_count": 132,
   "id": "eb1cfa6f",
   "metadata": {},
   "outputs": [
    {
     "name": "stdout",
     "output_type": "stream",
     "text": [
      "              precision    recall  f1-score   support\n",
      "\n",
      "           0       0.70      0.55      0.61       751\n",
      "           1       0.73      0.83      0.78      1081\n",
      "\n",
      "    accuracy                           0.72      1832\n",
      "   macro avg       0.71      0.69      0.69      1832\n",
      "weighted avg       0.71      0.72      0.71      1832\n",
      "\n"
     ]
    }
   ],
   "source": [
    "cr_gbc=classification_report(y_test,gbc_pred)\n",
    "print(cr_gbc)"
   ]
  },
  {
   "cell_type": "code",
   "execution_count": 133,
   "id": "a298609d",
   "metadata": {},
   "outputs": [
    {
     "data": {
      "text/plain": [
       "0.7378093158660844"
      ]
     },
     "execution_count": 133,
     "metadata": {},
     "output_type": "execute_result"
    }
   ],
   "source": [
    "acc_gbc1=accuracy_score(y_train,train_predict_gbc)\n",
    "acc_gbc1"
   ]
  },
  {
   "cell_type": "code",
   "execution_count": 134,
   "id": "db081c78",
   "metadata": {},
   "outputs": [
    {
     "name": "stdout",
     "output_type": "stream",
     "text": [
      "              precision    recall  f1-score   support\n",
      "\n",
      "           0       0.70      0.56      0.62      2111\n",
      "           1       0.76      0.85      0.80      3385\n",
      "\n",
      "    accuracy                           0.74      5496\n",
      "   macro avg       0.73      0.70      0.71      5496\n",
      "weighted avg       0.73      0.74      0.73      5496\n",
      "\n"
     ]
    }
   ],
   "source": [
    "cr_gbc1=classification_report(y_train,train_predict_gbc)\n",
    "print(cr_gbc1)"
   ]
  },
  {
   "cell_type": "code",
   "execution_count": 135,
   "id": "aed6de37",
   "metadata": {},
   "outputs": [
    {
     "name": "stdout",
     "output_type": "stream",
     "text": [
      "Testing accuracy score: 71.61572052401746\n"
     ]
    }
   ],
   "source": [
    "print('Testing accuracy score:',acc_gbc*100)"
   ]
  },
  {
   "cell_type": "code",
   "execution_count": 136,
   "id": "3f03af61",
   "metadata": {},
   "outputs": [
    {
     "name": "stdout",
     "output_type": "stream",
     "text": [
      "Training Accuracy score: 73.78093158660845\n"
     ]
    }
   ],
   "source": [
    "print('Training Accuracy score:',acc_gbc1*100)"
   ]
  },
  {
   "cell_type": "code",
   "execution_count": 137,
   "id": "81ba4cf3",
   "metadata": {},
   "outputs": [
    {
     "name": "stdout",
     "output_type": "stream",
     "text": [
      "Test set ROC AUC score: 0.690\n"
     ]
    }
   ],
   "source": [
    "test_roc_auc = roc_auc_score(y_test, gbc_pred)\n",
    "\n",
    "# Print test_roc_auc\n",
    "print('Test set ROC AUC score: {:.3f}'.format(test_roc_auc))"
   ]
  },
  {
   "cell_type": "markdown",
   "id": "e38ef0e9",
   "metadata": {},
   "source": [
    "- Gradient boosting equally working good on both testing and training data"
   ]
  },
  {
   "cell_type": "markdown",
   "id": "0c026ec1",
   "metadata": {},
   "source": [
    "# Comparison Table"
   ]
  },
  {
   "cell_type": "code",
   "execution_count": 138,
   "id": "31a59d78",
   "metadata": {},
   "outputs": [],
   "source": [
    "Comparision_dict={'Model Name':['Logistic regression', 'Decision Tree Classifier','Random Forest Classifier','GradientBoostingClassifier'],\n",
    "                 'Training_ Accuracy':[67.794,68.39,68.39,71.61],\n",
    "                 'Test_Accuracy':[66.59,83.988,69.32,73.78],\n",
    "                 'Test_roc_auc_score':[0.641,0.661,0.666,0.690]}"
   ]
  },
  {
   "cell_type": "code",
   "execution_count": 139,
   "id": "267ba2ff",
   "metadata": {},
   "outputs": [],
   "source": [
    "comparisione_df=pd.DataFrame(Comparision_dict)"
   ]
  },
  {
   "cell_type": "code",
   "execution_count": 140,
   "id": "f08a8b68",
   "metadata": {},
   "outputs": [
    {
     "data": {
      "text/html": [
       "<div>\n",
       "<style scoped>\n",
       "    .dataframe tbody tr th:only-of-type {\n",
       "        vertical-align: middle;\n",
       "    }\n",
       "\n",
       "    .dataframe tbody tr th {\n",
       "        vertical-align: top;\n",
       "    }\n",
       "\n",
       "    .dataframe thead th {\n",
       "        text-align: right;\n",
       "    }\n",
       "</style>\n",
       "<table border=\"1\" class=\"dataframe\">\n",
       "  <thead>\n",
       "    <tr style=\"text-align: right;\">\n",
       "      <th></th>\n",
       "      <th>Model Name</th>\n",
       "      <th>Training_ Accuracy</th>\n",
       "      <th>Test_Accuracy</th>\n",
       "      <th>Test_roc_auc_score</th>\n",
       "    </tr>\n",
       "  </thead>\n",
       "  <tbody>\n",
       "    <tr>\n",
       "      <th>0</th>\n",
       "      <td>Logistic regression</td>\n",
       "      <td>67.794</td>\n",
       "      <td>66.590</td>\n",
       "      <td>0.641</td>\n",
       "    </tr>\n",
       "    <tr>\n",
       "      <th>1</th>\n",
       "      <td>Decision Tree Classifier</td>\n",
       "      <td>68.390</td>\n",
       "      <td>83.988</td>\n",
       "      <td>0.661</td>\n",
       "    </tr>\n",
       "    <tr>\n",
       "      <th>2</th>\n",
       "      <td>Random Forest Classifier</td>\n",
       "      <td>68.390</td>\n",
       "      <td>69.320</td>\n",
       "      <td>0.666</td>\n",
       "    </tr>\n",
       "    <tr>\n",
       "      <th>3</th>\n",
       "      <td>GradientBoostingClassifier</td>\n",
       "      <td>71.610</td>\n",
       "      <td>73.780</td>\n",
       "      <td>0.690</td>\n",
       "    </tr>\n",
       "  </tbody>\n",
       "</table>\n",
       "</div>"
      ],
      "text/plain": [
       "                   Model Name  Training_ Accuracy  Test_Accuracy  \\\n",
       "0         Logistic regression              67.794         66.590   \n",
       "1    Decision Tree Classifier              68.390         83.988   \n",
       "2    Random Forest Classifier              68.390         69.320   \n",
       "3  GradientBoostingClassifier              71.610         73.780   \n",
       "\n",
       "   Test_roc_auc_score  \n",
       "0               0.641  \n",
       "1               0.661  \n",
       "2               0.666  \n",
       "3               0.690  "
      ]
     },
     "execution_count": 140,
     "metadata": {},
     "output_type": "execute_result"
    }
   ],
   "source": [
    "comparisione_df"
   ]
  },
  {
   "cell_type": "markdown",
   "id": "edcbf054",
   "metadata": {},
   "source": [
    "# Challenges Faced"
   ]
  },
  {
   "cell_type": "markdown",
   "id": "3f21d673",
   "metadata": {},
   "source": [
    "- As the dataset had lots of label values, assigning multiple labels into single label was a difficult task\n"
   ]
  },
  {
   "cell_type": "markdown",
   "id": "27bacd2c",
   "metadata": {},
   "source": [
    "# Conclusion"
   ]
  },
  {
   "cell_type": "markdown",
   "id": "79096c30",
   "metadata": {},
   "source": [
    " - The client is a IT solution provider with products ranging from on-premises product to SAAS based solutions. as we know, the company's sales is dependent on lead quality. Due to more new competitors entering the market, Ficzon is experiencing the dip in sales.\n",
    " \n",
    " - Four machine learning models i.e **Logistic regression, Decision tree cLassifier, Random forest classifier, Gradient boosting classifier** were examined in this case study to predict the lead category(High Potential,Low Potential) at the business segment level.\n",
    " \n",
    " - Also used hyperparameter tuning to examine the scores.\n",
    " \n",
    " - **Best Performing model to predict the lead category is an ensembled technique model i.e GradientBoosting classifier.**\n",
    " \n",
    " - Gradient Boosting is one of the variant of ensemble the method where we can create multiple weak models and combine them to get better performance as a whole.\n",
    " - The given project was successfully delivered to the client Ficzon"
   ]
  },
  {
   "cell_type": "code",
   "execution_count": null,
   "id": "0232e7b4",
   "metadata": {},
   "outputs": [],
   "source": []
  }
 ],
 "metadata": {
  "kernelspec": {
   "display_name": "Python 3 (ipykernel)",
   "language": "python",
   "name": "python3"
  },
  "language_info": {
   "codemirror_mode": {
    "name": "ipython",
    "version": 3
   },
   "file_extension": ".py",
   "mimetype": "text/x-python",
   "name": "python",
   "nbconvert_exporter": "python",
   "pygments_lexer": "ipython3",
   "version": "3.9.7"
  }
 },
 "nbformat": 4,
 "nbformat_minor": 5
}
